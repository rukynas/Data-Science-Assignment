{
 "cells": [
  {
   "cell_type": "markdown",
   "metadata": {},
   "source": [
    "### Pandas exercises"
   ]
  },
  {
   "cell_type": "markdown",
   "metadata": {},
   "source": [
    "We will start with the Chipotle exercise.\n",
    "\n",
    "SOURCE: https://github.com/guipsamora/pandas_exercises/blob/master/01_Getting_%26_Knowing_Your_Data/Chipotle/Exercises.ipynb"
   ]
  },
  {
   "cell_type": "markdown",
   "metadata": {},
   "source": [
    "Step 1. Import the necessary libraries\n",
    " \n",
    "Step 2. Import the dataset from this address(https://raw.githubusercontent.com/justmarkham/DAT8/master/data/chipotle.tsv). \n",
    "\n",
    "Step 3. Assign it to a variable called chipo.\n",
    "\n",
    "Step 4. See the first 10 entries"
   ]
  },
  {
   "cell_type": "code",
   "execution_count": 8,
   "metadata": {},
   "outputs": [
    {
     "name": "stdout",
     "output_type": "stream",
     "text": [
      "   order_id  quantity                              item_name  \\\n",
      "0         1         1           Chips and Fresh Tomato Salsa   \n",
      "1         1         1                                   Izze   \n",
      "2         1         1                       Nantucket Nectar   \n",
      "3         1         1  Chips and Tomatillo-Green Chili Salsa   \n",
      "4         2         2                           Chicken Bowl   \n",
      "5         3         1                           Chicken Bowl   \n",
      "6         3         1                          Side of Chips   \n",
      "7         4         1                          Steak Burrito   \n",
      "8         4         1                       Steak Soft Tacos   \n",
      "9         5         1                          Steak Burrito   \n",
      "\n",
      "                                  choice_description item_price  \n",
      "0                                                NaN     $2.39   \n",
      "1                                       [Clementine]     $3.39   \n",
      "2                                            [Apple]     $3.39   \n",
      "3                                                NaN     $2.39   \n",
      "4  [Tomatillo-Red Chili Salsa (Hot), [Black Beans...    $16.98   \n",
      "5  [Fresh Tomato Salsa (Mild), [Rice, Cheese, Sou...    $10.98   \n",
      "6                                                NaN     $1.69   \n",
      "7  [Tomatillo Red Chili Salsa, [Fajita Vegetables...    $11.75   \n",
      "8  [Tomatillo Green Chili Salsa, [Pinto Beans, Ch...     $9.25   \n",
      "9  [Fresh Tomato Salsa, [Rice, Black Beans, Pinto...     $9.25   \n"
     ]
    }
   ],
   "source": [
    "# Import the necessary libraries\n",
    "import pandas as pd\n",
    "\n",
    "# Import the dataset and Assign it to a variable called chipo\n",
    "url = \"https://raw.githubusercontent.com/justmarkham/DAT8/master/data/chipotle.tsv\"\n",
    "chipo = pd.read_csv(url, sep='\\t')\n",
    "\n",
    "# print the first 10 entries\n",
    "print(chipo.head(10))\n",
    "\n"
   ]
  },
  {
   "cell_type": "markdown",
   "metadata": {},
   "source": [
    "Step 5. What is the number of observations in the dataset?\n",
    "\n",
    "Step 6. What is the number of columns in the dataset?\n",
    "\n",
    "Step 7. Print the name of all the columns."
   ]
  },
  {
   "cell_type": "code",
   "execution_count": 14,
   "metadata": {},
   "outputs": [
    {
     "name": "stdout",
     "output_type": "stream",
     "text": [
      "Number of observations in the dataset is 4622\n",
      "Number of columns in the dataset is 5\n",
      "\n",
      "Names of all the columns are:\n",
      "order_id\n",
      "quantity\n",
      "item_name\n",
      "choice_description\n",
      "item_price\n"
     ]
    }
   ],
   "source": [
    "num_observations = chipo.shape[0]\n",
    "print(\"Number of observations in the dataset is\", num_observations)\n",
    "\n",
    "# use [1], second element of the tuple represents the number of columns\n",
    "num_columns = chipo.shape[1]\n",
    "print(\"Number of columns in the dataset is\", num_columns)\n",
    "\n",
    "# Print the name of all the columns.\n",
    "print(\"\\nNames of all the columns are:\")\n",
    "for column_name in chipo.columns:\n",
    "    print(column_name)\n"
   ]
  },
  {
   "cell_type": "markdown",
   "metadata": {},
   "source": [
    "Step 8. How is the dataset indexed?\n",
    "\n",
    "Step 9. Which was the most-ordered item?\n",
    "\n",
    "Step 10. For the most-ordered item, how many items were ordered?\n"
   ]
  },
  {
   "cell_type": "code",
   "execution_count": 20,
   "metadata": {},
   "outputs": [
    {
     "name": "stdout",
     "output_type": "stream",
     "text": [
      "Indexing of the dataset:\n",
      "RangeIndex(start=0, stop=4622, step=1)\n",
      "\n",
      "The most-ordered item is: Chicken Bowl\n",
      "\n",
      "The most-ordered item total is: 761\n"
     ]
    }
   ],
   "source": [
    "# dataset is indexed using normally staring from 0 to the total number minus 1. \n",
    "\n",
    "print(\"Indexing of the dataset:\")\n",
    "print(chipo.index)\n",
    "\n",
    "# Step 9. Which was the most-ordered item?\n",
    "\n",
    "# Group the data by item name and sum up the quantities ordered for each item\n",
    "item_quantity = chipo.groupby('item_name')['quantity'].sum()\n",
    "\n",
    "# Find the item with the highest total quantity ordered\n",
    "most_ordered_item = item_quantity.idxmax()\n",
    "\n",
    "print(\"\\nThe most-ordered item is:\", most_ordered_item)\n",
    "\n",
    "# to find the sum of most ordered item, filter the dataset to include only rows corresponding to the most-ordered item\n",
    "most_ordered_item_data = chipo[chipo['item_name'] == most_ordered_item]\n",
    "\n",
    "# Sum up the quantities ordered for the most-ordered item\n",
    "\n",
    "print(\"\\nThe most-ordered item total is:\", most_ordered_item_data['quantity'].sum())"
   ]
  },
  {
   "cell_type": "markdown",
   "metadata": {},
   "source": [
    "Step 11. What was the most ordered item in the choice_description column?\n",
    "\n",
    "Step 12. How many items were orderd in total?\n",
    "\n",
    "Step 13. Turn the item price into a float\n",
    "\n",
    "\n"
   ]
  },
  {
   "cell_type": "code",
   "execution_count": 5,
   "metadata": {},
   "outputs": [
    {
     "name": "stdout",
     "output_type": "stream",
     "text": [
      "\n",
      "The most-ordered item in the choice_description column is: [Diet Coke]\n",
      "\n",
      "Total number of items ordered is: 4972\n",
      "\n",
      "    order_id  quantity                              item_name  \\\n",
      "0         1         1           Chips and Fresh Tomato Salsa   \n",
      "1         1         1                                   Izze   \n",
      "2         1         1                       Nantucket Nectar   \n",
      "3         1         1  Chips and Tomatillo-Green Chili Salsa   \n",
      "4         2         2                           Chicken Bowl   \n",
      "\n",
      "                                  choice_description  item_price  \n",
      "0                                                NaN        2.39  \n",
      "1                                       [Clementine]        3.39  \n",
      "2                                            [Apple]        3.39  \n",
      "3                                                NaN        2.39  \n",
      "4  [Tomatillo-Red Chili Salsa (Hot), [Black Beans...       16.98  \n"
     ]
    }
   ],
   "source": [
    "# Import the necessary libraries\n",
    "import pandas as pd\n",
    "\n",
    "# Import the dataset and Assign it to a variable called chipo\n",
    "url = \"https://raw.githubusercontent.com/justmarkham/DAT8/master/data/chipotle.tsv\"\n",
    "chipo = pd.read_csv(url, sep='\\t')\n",
    "\n",
    "# Group the data by item name and sum up the quantities ordered for each item\n",
    "choice_item_quantity = chipo.groupby('choice_description')['quantity'].sum()\n",
    "\n",
    "# Find the item with the highest total quantity ordered\n",
    "choice_most_ordered_item = choice_item_quantity.idxmax()\n",
    "\n",
    "print(\"\\nThe most-ordered item in the choice_description column is:\", choice_most_ordered_item)\n",
    "\n",
    "# Sum up the quantities ordered for all items\n",
    "total_items_ordered = chipo['quantity'].sum()\n",
    "\n",
    "print(\"\\nTotal number of items ordered is:\", total_items_ordered)\n",
    "\n",
    "# to turn item price into float \n",
    "chipo['item_price'] = chipo['item_price'].str.replace('$', '').astype(float)\n",
    "\n",
    "# print first few rows\n",
    "print('\\n',chipo.head())\n"
   ]
  },
  {
   "cell_type": "markdown",
   "metadata": {},
   "source": [
    "Step 13.a. Check the item price type\n",
    "\n",
    "Step 13.b. Create a lambda function and change the type of item price\n",
    "\n",
    "Step 13.c. Check the item price type"
   ]
  },
  {
   "cell_type": "code",
   "execution_count": 14,
   "metadata": {},
   "outputs": [
    {
     "name": "stdout",
     "output_type": "stream",
     "text": [
      "<class 'numpy.dtypes.Float64DType'>\n",
      "\n",
      "Data type of the 'item_price' column after conversion: float64\n"
     ]
    }
   ],
   "source": [
    "# Check the data type of the item_price\n",
    "item_price_type = chipo['item_price'].dtype\n",
    "\n",
    "print(type(item_price_type))\n",
    "\n",
    "# Create a lambda function to convert the 'item_price' column to float\n",
    "convert_to_float = lambda x: float(x.replace('$', ''))\n",
    "\n",
    "# Check the data type of the item_price\n",
    "item_price_type_after_conversion = chipo['item_price'].dtype\n",
    "\n",
    "print(\"\\nData type of the 'item_price' column after conversion:\", item_price_type_after_conversion)\n"
   ]
  },
  {
   "cell_type": "markdown",
   "metadata": {},
   "source": [
    "Step 14. How much was the revenue for the period in the dataset?\n",
    "\n",
    "Step 15. How many orders were made in the period?\n",
    "\n",
    "Step 16. What is the average revenue amount per order?\n",
    "\n",
    "Step 17. How many different items are sold?\n",
    "\n"
   ]
  },
  {
   "cell_type": "code",
   "execution_count": 27,
   "metadata": {},
   "outputs": [
    {
     "name": "stdout",
     "output_type": "stream",
     "text": [
      "Revenue was $ 39237.02\n",
      "\n",
      "Number of unique order ID is 1834\n",
      "\n",
      "Average revenue amount per order is 21.39423118865867\n",
      "\n",
      "Number of different items sold is 50\n"
     ]
    }
   ],
   "source": [
    "# Calculate the revenue by multiplying quantity and item_price for each row, and then summing up\n",
    "revenue = (chipo['quantity'] * chipo['item_price']).sum()\n",
    "\n",
    "print(\"Revenue was $\",revenue)\n",
    "\n",
    "# Count the number of unique order IDs in the dataset\n",
    "num_orders = chipo['order_id'].nunique()\n",
    "\n",
    "print(\"\\nNumber of unique order ID is\",num_orders)\n",
    "\n",
    "# what is the average revenue amount per order\n",
    "average_revenue_per_order = revenue / num_orders\n",
    "\n",
    "print(\"\\nAverage revenue amount per order is\", average_revenue_per_order)\n",
    "\n",
    "# How many different items are sold?\n",
    "num_unique_items = chipo['item_name'].nunique()\n",
    "\n",
    "print(\"\\nNumber of different items sold is\", num_unique_items)\n"
   ]
  },
  {
   "cell_type": "markdown",
   "metadata": {},
   "source": []
  },
  {
   "cell_type": "code",
   "execution_count": null,
   "metadata": {},
   "outputs": [],
   "source": []
  }
 ],
 "metadata": {
  "kernelspec": {
   "display_name": "adsatesting",
   "language": "python",
   "name": "python3"
  },
  "language_info": {
   "codemirror_mode": {
    "name": "ipython",
    "version": 3
   },
   "file_extension": ".py",
   "mimetype": "text/x-python",
   "name": "python",
   "nbconvert_exporter": "python",
   "pygments_lexer": "ipython3",
   "version": "3.10.13"
  },
  "orig_nbformat": 4
 },
 "nbformat": 4,
 "nbformat_minor": 2
}

{
 "cells": [
  {
   "cell_type": "markdown",
   "metadata": {},
   "source": [
    "## NUMPY PRACTICE EXERCISES\n",
    "\n",
    "#### Source:\n",
    "https://github.com/arewadataScience/ArewaDS-Machine-Learning/blob/main/100_numpy_exercise.md"
   ]
  },
  {
   "cell_type": "markdown",
   "metadata": {},
   "source": [
    "1. Import the numpy package under the name np\n",
    "2. Print the numpy version and the configuration"
   ]
  },
  {
   "cell_type": "code",
   "execution_count": 12,
   "metadata": {},
   "outputs": [
    {
     "name": "stdout",
     "output_type": "stream",
     "text": [
      "NumPy Version is: 1.26.2\n",
      "NumPy Configuration is:\n",
      "{\n",
      "  \"Compilers\": {\n",
      "    \"c\": {\n",
      "      \"name\": \"clang\",\n",
      "      \"linker\": \"ld64\",\n",
      "      \"version\": \"14.0.6\",\n",
      "      \"commands\": \"arm64-apple-darwin20.0.0-clang\"\n",
      "    },\n",
      "    \"cython\": {\n",
      "      \"name\": \"cython\",\n",
      "      \"linker\": \"cython\",\n",
      "      \"version\": \"3.0.0\",\n",
      "      \"commands\": \"cython\"\n",
      "    },\n",
      "    \"c++\": {\n",
      "      \"name\": \"clang\",\n",
      "      \"linker\": \"ld64\",\n",
      "      \"version\": \"14.0.6\",\n",
      "      \"commands\": \"arm64-apple-darwin20.0.0-clang++\"\n",
      "    }\n",
      "  },\n",
      "  \"Machine Information\": {\n",
      "    \"host\": {\n",
      "      \"cpu\": \"aarch64\",\n",
      "      \"family\": \"aarch64\",\n",
      "      \"endian\": \"little\",\n",
      "      \"system\": \"darwin\"\n",
      "    },\n",
      "    \"build\": {\n",
      "      \"cpu\": \"aarch64\",\n",
      "      \"family\": \"aarch64\",\n",
      "      \"endian\": \"little\",\n",
      "      \"system\": \"darwin\"\n",
      "    }\n",
      "  },\n",
      "  \"Build Dependencies\": {\n",
      "    \"blas\": {\n",
      "      \"name\": \"openblas\",\n",
      "      \"found\": true,\n",
      "      \"version\": \"0.3.21\",\n",
      "      \"detection method\": \"pkgconfig\",\n",
      "      \"include directory\": \"/Users/ruqayyanasiriro/miniconda3/envs/adsatesting/include\",\n",
      "      \"lib directory\": \"/Users/ruqayyanasiriro/miniconda3/envs/adsatesting/lib\",\n",
      "      \"openblas configuration\": \"USE_64BITINT= DYNAMIC_ARCH=1 DYNAMIC_OLDER= NO_CBLAS= NO_LAPACK=0 NO_LAPACKE= NO_AFFINITY=1 USE_OPENMP=0 VORTEX MAX_THREADS=128\",\n",
      "      \"pc file directory\": \"/Users/ruqayyanasiriro/miniconda3/envs/adsatesting/lib/pkgconfig\"\n",
      "    },\n",
      "    \"lapack\": {\n",
      "      \"name\": \"dep4346664256\",\n",
      "      \"found\": true,\n",
      "      \"version\": \"1.26.2\",\n",
      "      \"detection method\": \"internal\",\n",
      "      \"include directory\": \"unknown\",\n",
      "      \"lib directory\": \"unknown\",\n",
      "      \"openblas configuration\": \"unknown\",\n",
      "      \"pc file directory\": \"unknown\"\n",
      "    }\n",
      "  },\n",
      "  \"Python Information\": {\n",
      "    \"path\": \"/Users/ruqayyanasiriro/miniconda3/envs/adsatesting/bin/python\",\n",
      "    \"version\": \"3.10\"\n",
      "  },\n",
      "  \"SIMD Extensions\": {\n",
      "    \"baseline\": [\n",
      "      \"NEON\",\n",
      "      \"NEON_FP16\",\n",
      "      \"NEON_VFPV4\",\n",
      "      \"ASIMD\"\n",
      "    ],\n",
      "    \"found\": [\n",
      "      \"ASIMDHP\"\n",
      "    ],\n",
      "    \"not found\": [\n",
      "      \"ASIMDFHM\"\n",
      "    ]\n",
      "  }\n",
      "}\n",
      "None\n"
     ]
    }
   ],
   "source": [
    "import numpy as np\n",
    "\n",
    "# Print NumPy version and configuration\n",
    "print(\"NumPy Version is:\", np.__version__)\n",
    "print(\"NumPy Configuration is:\") \n",
    "print(np.show_config())\n",
    "\n"
   ]
  },
  {
   "cell_type": "markdown",
   "metadata": {},
   "source": [
    "3. Create a null vector of size 10  \n",
    "4. How to find the memory size of any array "
   ]
  },
  {
   "cell_type": "code",
   "execution_count": 14,
   "metadata": {},
   "outputs": [
    {
     "name": "stdout",
     "output_type": "stream",
     "text": [
      "Null vector of size 10: [0. 0. 0. 0. 0. 0. 0. 0. 0. 0.]\n",
      "Memory size of the array: 80 bytes\n"
     ]
    }
   ],
   "source": [
    "import numpy as np\n",
    "\n",
    "# Create a null vector of size 10\n",
    "null_vector = np.zeros(10)\n",
    "print(\"Null vector of size 10:\", null_vector)\n",
    "\n",
    "# Find the memory size of any array taking null vector above as example\n",
    "memory_size = null_vector.nbytes\n",
    "print(\"Memory size of the array:\", memory_size, \"bytes\")\n"
   ]
  },
  {
   "cell_type": "markdown",
   "metadata": {},
   "source": [
    "5. How to get the documentation of the numpy add function from the command line? \n",
    "   \n",
    "  **ANSWER:** we use np.info(np.add). It will give the documentation of the 'add' function.\n",
    "  \n",
    "  \n",
    "   \n",
    "6. Create a null vector of size 10 but the fifth value which is 1 \n",
    "   \n",
    "7. Create a vector with values ranging from 10 to 49 \n",
    "   \n",
    "8.  Reverse a vector (first element becomes last)\n",
    "   "
   ]
  },
  {
   "cell_type": "code",
   "execution_count": 17,
   "metadata": {},
   "outputs": [
    {
     "name": "stdout",
     "output_type": "stream",
     "text": [
      "Null vector where 5th value is 1 = [0. 0. 0. 0. 1. 0. 0. 0. 0. 0.]\n",
      "\n",
      "Vector with values ranging from 10 to 49 =  [10 11 12 13 14 15 16 17 18 19 20 21 22 23 24 25 26 27 28 29 30 31 32 33\n",
      " 34 35 36 37 38 39 40 41 42 43 44 45 46 47 48 49]\n",
      "\n",
      "Reversed vector is [49 48 47 46 45 44 43 42 41 40 39 38 37 36 35 34 33 32 31 30 29 28 27 26\n",
      " 25 24 23 22 21 20 19 18 17 16 15 14 13 12 11 10]\n"
     ]
    }
   ],
   "source": [
    "import numpy as np\n",
    "\n",
    "# Create a null vector of size 10 but the fifth value which is 1\n",
    "null_vector = np.zeros(10)\n",
    "null_vector[4] = 1\n",
    "print(\"Null vector where 5th value is 1 =\", null_vector)\n",
    "\n",
    "# Create a vector with values ranging from 10 to 49 using np.arange()\n",
    "vector_range = np.arange(10, 50)\n",
    "print(\"\\nVector with values ranging from 10 to 49 = \", vector_range)\n",
    "\n",
    "# Reverse a vector using vector range from above\n",
    "reversed_vector = np.flip(vector_range)\n",
    "print(\"\\nReversed vector is\", reversed_vector)\n"
   ]
  },
  {
   "cell_type": "markdown",
   "metadata": {},
   "source": [
    "9. Create a 3x3 matrix with values ranging from 0 to 8 \n",
    "    \n",
    "10. Find indices of non-zero elements from [1,2,0,0,4,0]"
   ]
  },
  {
   "cell_type": "code",
   "execution_count": 25,
   "metadata": {},
   "outputs": [
    {
     "name": "stdout",
     "output_type": "stream",
     "text": [
      "[[0 1 2]\n",
      " [3 4 5]\n",
      " [6 7 8]]\n",
      "(array([0, 1, 4]),)\n"
     ]
    }
   ],
   "source": [
    "import numpy as np\n",
    "\n",
    "# create 3x3 matrix, range 0-8\n",
    "three_by_three = np.arange(0, 9).reshape(3,3)\n",
    "\n",
    "# print result\n",
    "print(three_by_three)\n",
    "\n",
    "# given array\n",
    "arr = np.array([1, 2, 0, 0, 4, 0])\n",
    "\n",
    "#identifies the indices of elements that are non-zero.\n",
    "indices_nonzero = np.nonzero(arr)\n",
    "\n",
    "# prints output\n",
    "print(indices_nonzero)"
   ]
  },
  {
   "cell_type": "markdown",
   "metadata": {},
   "source": [
    "11.  Create a 3x3 identity matrix \n",
    "   \n",
    "12.  Create a 3x3x3 array with random values"
   ]
  },
  {
   "cell_type": "code",
   "execution_count": 18,
   "metadata": {},
   "outputs": [
    {
     "name": "stdout",
     "output_type": "stream",
     "text": [
      "[[1. 0. 0.]\n",
      " [0. 1. 0.]\n",
      " [0. 0. 1.]]\n",
      "\n",
      "3x3x3 array:\n",
      " [[[0.64990161 0.93643386 0.67420505]\n",
      "  [0.72361468 0.97651342 0.86096396]\n",
      "  [0.88430237 0.59985661 0.82301981]]\n",
      "\n",
      " [[0.04475813 0.78127797 0.39957837]\n",
      "  [0.95652449 0.37569051 0.06833121]\n",
      "  [0.6452381  0.42273315 0.52667437]]\n",
      "\n",
      " [[0.13397625 0.10791948 0.0142508 ]\n",
      "  [0.01976379 0.29985953 0.38714354]\n",
      "  [0.77142603 0.3730331  0.90535606]]]\n"
     ]
    }
   ],
   "source": [
    "import numpy as np\n",
    "\n",
    "# Create a 3x3 identity matrix\n",
    "identity_matrix = np.identity(3)\n",
    "print(identity_matrix)\n",
    "\n",
    "# Create a 3x3x3 array with random values\n",
    "random_array = np.random.random((3, 3, 3))\n",
    "print(\"\\n3x3x3 array:\\n\",random_array)\n"
   ]
  },
  {
   "cell_type": "markdown",
   "metadata": {},
   "source": [
    "13.  Create a 10x10 array with random values and find the minimum and maximum values\n",
    "   \n"
   ]
  },
  {
   "cell_type": "code",
   "execution_count": 16,
   "metadata": {},
   "outputs": [
    {
     "name": "stdout",
     "output_type": "stream",
     "text": [
      "[[0.72039015 0.09369841 0.72873494 0.22228938 0.06523871 0.61859414\n",
      "  0.2845161  0.53928405 0.19231507 0.17979439]\n",
      " [0.95476376 0.37805859 0.17744809 0.28554068 0.73021984 0.02174129\n",
      "  0.7452342  0.74529583 0.59142306 0.7688509 ]\n",
      " [0.13002406 0.68732518 0.85830626 0.33164867 0.26285724 0.9998481\n",
      "  0.78274774 0.28837482 0.30349986 0.56336726]\n",
      " [0.46721595 0.51993929 0.24443317 0.80123172 0.5911429  0.04585177\n",
      "  0.78965858 0.12381675 0.3533921  0.85838522]\n",
      " [0.08031602 0.27742856 0.41471596 0.54635581 0.53959118 0.32552491\n",
      "  0.5469929  0.28072248 0.85583341 0.20865325]\n",
      " [0.20777889 0.38760232 0.39581088 0.70158354 0.44772252 0.35621967\n",
      "  0.00200307 0.65369535 0.93456403 0.22712985]\n",
      " [0.78323234 0.06243504 0.92108338 0.3488049  0.27618782 0.36794066\n",
      "  0.08020142 0.75477667 0.66412062 0.65979361]\n",
      " [0.2205282  0.07021136 0.78609665 0.68163825 0.81087067 0.50422584\n",
      "  0.14202899 0.66101256 0.18697814 0.81771941]\n",
      " [0.90084349 0.66986758 0.18304613 0.72947978 0.07493001 0.11165066\n",
      "  0.09381015 0.15345286 0.37418019 0.35880664]\n",
      " [0.7627874  0.20369624 0.36330406 0.96884304 0.70014036 0.60655974\n",
      "  0.34676961 0.64084291 0.74356315 0.41926912]]\n",
      "\n",
      "max value is 0.9998480962705415\n",
      "\n",
      "min value is 0.0020030702121235366\n"
     ]
    }
   ],
   "source": [
    "# 10x10 array of random numbers and result\n",
    "random_array_10 = np.random.rand(10,10)\n",
    "\n",
    "print(random_array_10)\n",
    "\n",
    "# prints min and max random generated number\n",
    "print(\"\\nmax value is\",np.max(random_array_10))\n",
    "\n",
    "print(\"\\nmin value is\",np.min(random_array_10))"
   ]
  },
  {
   "cell_type": "markdown",
   "metadata": {},
   "source": [
    "14. Create a random vector of size 30 and find the mean value \n",
    "    \n",
    "    "
   ]
  },
  {
   "cell_type": "code",
   "execution_count": 20,
   "metadata": {},
   "outputs": [
    {
     "name": "stdout",
     "output_type": "stream",
     "text": [
      "[0.82421224 0.70580617 0.80107379 0.03691118 0.30039325 0.46079249\n",
      " 0.12953655 0.66014818 0.36088679 0.86813877 0.05934723 0.43572113\n",
      " 0.49544336 0.74069737 0.10634164 0.51781306 0.98861544 0.58477368\n",
      " 0.19868623 0.72809833 0.17228044 0.63112825 0.80056208 0.06001381\n",
      " 0.11829353 0.76483987 0.70521921 0.1923012  0.67518834 0.76797108]\n",
      "\n",
      "mean is: 0.49637448972654374\n"
     ]
    }
   ],
   "source": [
    "# Create a random vector of size 30 \n",
    "random_vector = np.random.rand(30)\n",
    "\n",
    "# prints result\n",
    "print(random_vector)\n",
    "\n",
    "# find the mean value \n",
    "mean_random_vector = np.sum(random_vector)/30\n",
    "\n",
    "print(\"\\nmean is:\", mean_random_vector)"
   ]
  },
  {
   "cell_type": "markdown",
   "metadata": {},
   "source": [
    "15. Create a 2d array with 1 on the border and 0 inside\n",
    "\n",
    "16. How to add a border (filled with 0's) around an existing array?\n",
    "\n"
   ]
  },
  {
   "cell_type": "code",
   "execution_count": 29,
   "metadata": {},
   "outputs": [
    {
     "name": "stdout",
     "output_type": "stream",
     "text": [
      "[[1. 1. 1.]\n",
      " [1. 0. 1.]\n",
      " [1. 1. 1.]]\n",
      "\n",
      " Border filled with zeros\n",
      " [[0. 0. 0.]\n",
      " [0. 0. 0.]\n",
      " [0. 0. 0.]]\n"
     ]
    }
   ],
   "source": [
    "import numpy as np\n",
    "\n",
    "# dimensions of the 2D array as 3x3\n",
    "rows, cols = 3, 3\n",
    "\n",
    "# create a 2D array filled with zeros\n",
    "array_2d = np.zeros((rows, cols))\n",
    "\n",
    "# Set the border elements to 1\n",
    "array_2d[0, :] = 1  # Top row\n",
    "array_2d[-1, :] = 1  # Bottom row\n",
    "array_2d[:, 0] = 1  # Leftmost column\n",
    "array_2d[:, -1] = 1  # Rightmost column\n",
    "\n",
    "print(array_2d)\n",
    "\n",
    "# How to add a border (filled with 0's) around an existing array?\n",
    "x = np.zeros((3, 3))\n",
    "\n",
    "# Print result\n",
    "print('\\n Border filled with zeros\\n',x)"
   ]
  },
  {
   "cell_type": "markdown",
   "metadata": {},
   "source": [
    "17. What is the result of the following expression? \n",
    "\n",
    "0 * np.nan  \n",
    "np.nan == np.nan  \n",
    "np.inf > np.nan  \n",
    "np.nan - np.nan  \n",
    "np.nan in set([np.nan])  \n",
    "0.3 == 3 * 0.1  "
   ]
  },
  {
   "cell_type": "code",
   "execution_count": 30,
   "metadata": {},
   "outputs": [
    {
     "data": {
      "text/plain": [
       "False"
      ]
     },
     "execution_count": 30,
     "metadata": {},
     "output_type": "execute_result"
    }
   ],
   "source": [
    "\n",
    "0 * np.nan\n",
    "np.nan == np.nan\n",
    "np.inf > np.nan\n",
    "np.nan - np.nan\n",
    "np.nan in set([np.nan])\n",
    "0.3 == 3 * 0.1"
   ]
  },
  {
   "cell_type": "markdown",
   "metadata": {},
   "source": [
    "18. Create a 5x5 matrix with values 1,2,3,4 just below the diagonal  \n",
    "\n",
    "19. Create a 8x8 matrix and fill it with a checkerboard pattern\n",
    " "
   ]
  },
  {
   "cell_type": "code",
   "execution_count": 36,
   "metadata": {},
   "outputs": [
    {
     "name": "stdout",
     "output_type": "stream",
     "text": [
      "\n",
      "5 by 5 matrix\n",
      " [[0. 0. 0. 0. 0.]\n",
      " [1. 0. 0. 0. 0.]\n",
      " [0. 2. 0. 0. 0.]\n",
      " [0. 0. 3. 0. 0.]\n",
      " [0. 0. 0. 4. 0.]]\n",
      "\n",
      "chekerboard matrix\n",
      " [[1 0 1 0 1 0 1 0]\n",
      " [0 1 0 1 0 1 0 1]\n",
      " [1 0 1 0 1 0 1 0]\n",
      " [0 1 0 1 0 1 0 1]\n",
      " [1 0 1 0 1 0 1 0]\n",
      " [0 1 0 1 0 1 0 1]\n",
      " [1 0 1 0 1 0 1 0]\n",
      " [0 1 0 1 0 1 0 1]]\n"
     ]
    }
   ],
   "source": [
    "import numpy as np\n",
    "\n",
    "# Create a 5x5 matrix filled with zeros\n",
    "matrix = np.zeros((5, 5))\n",
    "\n",
    "# Set the values 1234 just below the diagonal\n",
    "matrix[1, 0] = 1\n",
    "matrix[2, 1] = 2\n",
    "matrix[3, 2] = 3\n",
    "matrix[4, 3] = 4\n",
    "\n",
    "print(\"\\n5 by 5 matrix\\n\",matrix)\n",
    "\n",
    "# Create an 8x8 matrix filled with zeros\n",
    "cmatrix = np.zeros((8, 8), dtype=int)\n",
    "\n",
    "# Set even rows and even columns to 1 using slicing\n",
    "cmatrix[::2, ::2] = 1\n",
    "\n",
    "# Set odd rows and odd columns to 1 using slicing\n",
    "cmatrix[1::2, 1::2] = 1\n",
    "\n",
    "print(\"\\nchekerboard matrix\\n\",cmatrix)\n",
    "\n"
   ]
  },
  {
   "cell_type": "markdown",
   "metadata": {},
   "source": [
    "21. Create a checkerboard 8x8 matrix using the tile function\n",
    "\n",
    "22. "
   ]
  },
  {
   "cell_type": "code",
   "execution_count": 40,
   "metadata": {},
   "outputs": [
    {
     "name": "stdout",
     "output_type": "stream",
     "text": [
      "Checkerboard using np.tile\n",
      " [[0 1 0 1 0 1 0 1]\n",
      " [1 0 1 0 1 0 1 0]\n",
      " [0 1 0 1 0 1 0 1]\n",
      " [1 0 1 0 1 0 1 0]\n",
      " [0 1 0 1 0 1 0 1]\n",
      " [1 0 1 0 1 0 1 0]\n",
      " [0 1 0 1 0 1 0 1]\n",
      " [1 0 1 0 1 0 1 0]]\n"
     ]
    }
   ],
   "source": [
    "import numpy as np\n",
    "\n",
    "# Create the checkerboard pattern\n",
    "checkerboard = np.array([[0, 1], [1, 0]])\n",
    "\n",
    "# Use np.tile() to create checkerboard pattern of 8x8 matrix\n",
    "checkerboard_8x8 = np.tile(checkerboard, (4, 4))\n",
    "\n",
    "print(\"Checkerboard using np.tile\\n\",checkerboard_8x8)\n"
   ]
  },
  {
   "cell_type": "markdown",
   "metadata": {},
   "source": []
  },
  {
   "cell_type": "code",
   "execution_count": null,
   "metadata": {},
   "outputs": [],
   "source": []
  },
  {
   "cell_type": "markdown",
   "metadata": {},
   "source": []
  },
  {
   "cell_type": "code",
   "execution_count": null,
   "metadata": {},
   "outputs": [],
   "source": []
  },
  {
   "cell_type": "markdown",
   "metadata": {},
   "source": []
  },
  {
   "cell_type": "code",
   "execution_count": null,
   "metadata": {},
   "outputs": [],
   "source": []
  }
 ],
 "metadata": {
  "kernelspec": {
   "display_name": "adsatesting",
   "language": "python",
   "name": "python3"
  },
  "language_info": {
   "codemirror_mode": {
    "name": "ipython",
    "version": 3
   },
   "file_extension": ".py",
   "mimetype": "text/x-python",
   "name": "python",
   "nbconvert_exporter": "python",
   "pygments_lexer": "ipython3",
   "version": "3.10.13"
  }
 },
 "nbformat": 4,
 "nbformat_minor": 2
}

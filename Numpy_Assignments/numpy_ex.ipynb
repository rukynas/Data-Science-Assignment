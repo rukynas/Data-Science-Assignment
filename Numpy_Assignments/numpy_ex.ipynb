{
 "cells": [
  {
   "cell_type": "markdown",
   "metadata": {},
   "source": [
    "## NUMPY PRACTICE EXERCISES\n",
    "\n",
    "#### Source:\n",
    "https://github.com/arewadataScience/ArewaDS-Machine-Learning/blob/main/100_numpy_exercise.md"
   ]
  },
  {
   "cell_type": "markdown",
   "metadata": {},
   "source": [
    "1. Import the numpy package under the name np\n",
    "2. Print the numpy version and the configuration"
   ]
  },
  {
   "cell_type": "code",
   "execution_count": 12,
   "metadata": {},
   "outputs": [
    {
     "name": "stdout",
     "output_type": "stream",
     "text": [
      "NumPy Version is: 1.26.2\n",
      "NumPy Configuration is:\n",
      "{\n",
      "  \"Compilers\": {\n",
      "    \"c\": {\n",
      "      \"name\": \"clang\",\n",
      "      \"linker\": \"ld64\",\n",
      "      \"version\": \"14.0.6\",\n",
      "      \"commands\": \"arm64-apple-darwin20.0.0-clang\"\n",
      "    },\n",
      "    \"cython\": {\n",
      "      \"name\": \"cython\",\n",
      "      \"linker\": \"cython\",\n",
      "      \"version\": \"3.0.0\",\n",
      "      \"commands\": \"cython\"\n",
      "    },\n",
      "    \"c++\": {\n",
      "      \"name\": \"clang\",\n",
      "      \"linker\": \"ld64\",\n",
      "      \"version\": \"14.0.6\",\n",
      "      \"commands\": \"arm64-apple-darwin20.0.0-clang++\"\n",
      "    }\n",
      "  },\n",
      "  \"Machine Information\": {\n",
      "    \"host\": {\n",
      "      \"cpu\": \"aarch64\",\n",
      "      \"family\": \"aarch64\",\n",
      "      \"endian\": \"little\",\n",
      "      \"system\": \"darwin\"\n",
      "    },\n",
      "    \"build\": {\n",
      "      \"cpu\": \"aarch64\",\n",
      "      \"family\": \"aarch64\",\n",
      "      \"endian\": \"little\",\n",
      "      \"system\": \"darwin\"\n",
      "    }\n",
      "  },\n",
      "  \"Build Dependencies\": {\n",
      "    \"blas\": {\n",
      "      \"name\": \"openblas\",\n",
      "      \"found\": true,\n",
      "      \"version\": \"0.3.21\",\n",
      "      \"detection method\": \"pkgconfig\",\n",
      "      \"include directory\": \"/Users/ruqayyanasiriro/miniconda3/envs/adsatesting/include\",\n",
      "      \"lib directory\": \"/Users/ruqayyanasiriro/miniconda3/envs/adsatesting/lib\",\n",
      "      \"openblas configuration\": \"USE_64BITINT= DYNAMIC_ARCH=1 DYNAMIC_OLDER= NO_CBLAS= NO_LAPACK=0 NO_LAPACKE= NO_AFFINITY=1 USE_OPENMP=0 VORTEX MAX_THREADS=128\",\n",
      "      \"pc file directory\": \"/Users/ruqayyanasiriro/miniconda3/envs/adsatesting/lib/pkgconfig\"\n",
      "    },\n",
      "    \"lapack\": {\n",
      "      \"name\": \"dep4346664256\",\n",
      "      \"found\": true,\n",
      "      \"version\": \"1.26.2\",\n",
      "      \"detection method\": \"internal\",\n",
      "      \"include directory\": \"unknown\",\n",
      "      \"lib directory\": \"unknown\",\n",
      "      \"openblas configuration\": \"unknown\",\n",
      "      \"pc file directory\": \"unknown\"\n",
      "    }\n",
      "  },\n",
      "  \"Python Information\": {\n",
      "    \"path\": \"/Users/ruqayyanasiriro/miniconda3/envs/adsatesting/bin/python\",\n",
      "    \"version\": \"3.10\"\n",
      "  },\n",
      "  \"SIMD Extensions\": {\n",
      "    \"baseline\": [\n",
      "      \"NEON\",\n",
      "      \"NEON_FP16\",\n",
      "      \"NEON_VFPV4\",\n",
      "      \"ASIMD\"\n",
      "    ],\n",
      "    \"found\": [\n",
      "      \"ASIMDHP\"\n",
      "    ],\n",
      "    \"not found\": [\n",
      "      \"ASIMDFHM\"\n",
      "    ]\n",
      "  }\n",
      "}\n",
      "None\n"
     ]
    }
   ],
   "source": [
    "import numpy as np\n",
    "\n",
    "# Print NumPy version and configuration\n",
    "print(\"NumPy Version is:\", np.__version__)\n",
    "print(\"NumPy Configuration is:\") \n",
    "print(np.show_config())\n",
    "\n"
   ]
  },
  {
   "cell_type": "markdown",
   "metadata": {},
   "source": [
    "3. Create a null vector of size 10  \n",
    "4. How to find the memory size of any array "
   ]
  },
  {
   "cell_type": "code",
   "execution_count": 14,
   "metadata": {},
   "outputs": [
    {
     "name": "stdout",
     "output_type": "stream",
     "text": [
      "Null vector of size 10: [0. 0. 0. 0. 0. 0. 0. 0. 0. 0.]\n",
      "Memory size of the array: 80 bytes\n"
     ]
    }
   ],
   "source": [
    "import numpy as np\n",
    "\n",
    "# Create a null vector of size 10\n",
    "null_vector = np.zeros(10)\n",
    "print(\"Null vector of size 10:\", null_vector)\n",
    "\n",
    "# Find the memory size of any array taking null vector above as example\n",
    "memory_size = null_vector.nbytes\n",
    "print(\"Memory size of the array:\", memory_size, \"bytes\")\n"
   ]
  },
  {
   "cell_type": "markdown",
   "metadata": {},
   "source": [
    "5. How to get the documentation of the numpy add function from the command line? \n",
    "   \n",
    "  **ANSWER:** we use np.info(np.add). It will give the documentation of the 'add' function.\n",
    "  \n",
    "  \n",
    "   \n",
    "6. Create a null vector of size 10 but the fifth value which is 1 \n",
    "   \n",
    "7. Create a vector with values ranging from 10 to 49 \n",
    "   \n",
    "8.  Reverse a vector (first element becomes last)\n",
    "   "
   ]
  },
  {
   "cell_type": "code",
   "execution_count": 17,
   "metadata": {},
   "outputs": [
    {
     "name": "stdout",
     "output_type": "stream",
     "text": [
      "Null vector where 5th value is 1 = [0. 0. 0. 0. 1. 0. 0. 0. 0. 0.]\n",
      "\n",
      "Vector with values ranging from 10 to 49 =  [10 11 12 13 14 15 16 17 18 19 20 21 22 23 24 25 26 27 28 29 30 31 32 33\n",
      " 34 35 36 37 38 39 40 41 42 43 44 45 46 47 48 49]\n",
      "\n",
      "Reversed vector is [49 48 47 46 45 44 43 42 41 40 39 38 37 36 35 34 33 32 31 30 29 28 27 26\n",
      " 25 24 23 22 21 20 19 18 17 16 15 14 13 12 11 10]\n"
     ]
    }
   ],
   "source": [
    "import numpy as np\n",
    "\n",
    "# Create a null vector of size 10 but the fifth value which is 1\n",
    "null_vector = np.zeros(10)\n",
    "null_vector[4] = 1\n",
    "print(\"Null vector where 5th value is 1 =\", null_vector)\n",
    "\n",
    "# Create a vector with values ranging from 10 to 49 using np.arange()\n",
    "vector_range = np.arange(10, 50)\n",
    "print(\"\\nVector with values ranging from 10 to 49 = \", vector_range)\n",
    "\n",
    "# Reverse a vector using vector range from above\n",
    "reversed_vector = np.flip(vector_range)\n",
    "print(\"\\nReversed vector is\", reversed_vector)\n"
   ]
  },
  {
   "cell_type": "markdown",
   "metadata": {},
   "source": [
    "9. Create a 3x3 matrix with values ranging from 0 to 8 \n",
    "    \n",
    "10. Find indices of non-zero elements from [1,2,0,0,4,0]"
   ]
  },
  {
   "cell_type": "code",
   "execution_count": 25,
   "metadata": {},
   "outputs": [
    {
     "name": "stdout",
     "output_type": "stream",
     "text": [
      "[[0 1 2]\n",
      " [3 4 5]\n",
      " [6 7 8]]\n",
      "(array([0, 1, 4]),)\n"
     ]
    }
   ],
   "source": [
    "import numpy as np\n",
    "\n",
    "# create 3x3 matrix, range 0-8\n",
    "three_by_three = np.arange(0, 9).reshape(3,3)\n",
    "\n",
    "# print result\n",
    "print(three_by_three)\n",
    "\n",
    "# given array\n",
    "arr = np.array([1, 2, 0, 0, 4, 0])\n",
    "\n",
    "#identifies the indices of elements that are non-zero.\n",
    "indices_nonzero = np.nonzero(arr)\n",
    "\n",
    "# prints output\n",
    "print(indices_nonzero)"
   ]
  },
  {
   "cell_type": "markdown",
   "metadata": {},
   "source": [
    "11.  Create a 3x3 identity matrix \n",
    "   \n",
    "12.  Create a 3x3x3 array with random values"
   ]
  },
  {
   "cell_type": "code",
   "execution_count": 18,
   "metadata": {},
   "outputs": [
    {
     "name": "stdout",
     "output_type": "stream",
     "text": [
      "[[1. 0. 0.]\n",
      " [0. 1. 0.]\n",
      " [0. 0. 1.]]\n",
      "\n",
      "3x3x3 array:\n",
      " [[[0.64990161 0.93643386 0.67420505]\n",
      "  [0.72361468 0.97651342 0.86096396]\n",
      "  [0.88430237 0.59985661 0.82301981]]\n",
      "\n",
      " [[0.04475813 0.78127797 0.39957837]\n",
      "  [0.95652449 0.37569051 0.06833121]\n",
      "  [0.6452381  0.42273315 0.52667437]]\n",
      "\n",
      " [[0.13397625 0.10791948 0.0142508 ]\n",
      "  [0.01976379 0.29985953 0.38714354]\n",
      "  [0.77142603 0.3730331  0.90535606]]]\n"
     ]
    }
   ],
   "source": [
    "import numpy as np\n",
    "\n",
    "# Create a 3x3 identity matrix\n",
    "identity_matrix = np.identity(3)\n",
    "print(identity_matrix)\n",
    "\n",
    "# Create a 3x3x3 array with random values\n",
    "random_array = np.random.random((3, 3, 3))\n",
    "print(\"\\n3x3x3 array:\\n\",random_array)\n"
   ]
  },
  {
   "cell_type": "markdown",
   "metadata": {},
   "source": [
    "13.  Create a 10x10 array with random values and find the minimum and maximum values\n",
    "   \n"
   ]
  },
  {
   "cell_type": "code",
   "execution_count": 16,
   "metadata": {},
   "outputs": [
    {
     "name": "stdout",
     "output_type": "stream",
     "text": [
      "[[0.72039015 0.09369841 0.72873494 0.22228938 0.06523871 0.61859414\n",
      "  0.2845161  0.53928405 0.19231507 0.17979439]\n",
      " [0.95476376 0.37805859 0.17744809 0.28554068 0.73021984 0.02174129\n",
      "  0.7452342  0.74529583 0.59142306 0.7688509 ]\n",
      " [0.13002406 0.68732518 0.85830626 0.33164867 0.26285724 0.9998481\n",
      "  0.78274774 0.28837482 0.30349986 0.56336726]\n",
      " [0.46721595 0.51993929 0.24443317 0.80123172 0.5911429  0.04585177\n",
      "  0.78965858 0.12381675 0.3533921  0.85838522]\n",
      " [0.08031602 0.27742856 0.41471596 0.54635581 0.53959118 0.32552491\n",
      "  0.5469929  0.28072248 0.85583341 0.20865325]\n",
      " [0.20777889 0.38760232 0.39581088 0.70158354 0.44772252 0.35621967\n",
      "  0.00200307 0.65369535 0.93456403 0.22712985]\n",
      " [0.78323234 0.06243504 0.92108338 0.3488049  0.27618782 0.36794066\n",
      "  0.08020142 0.75477667 0.66412062 0.65979361]\n",
      " [0.2205282  0.07021136 0.78609665 0.68163825 0.81087067 0.50422584\n",
      "  0.14202899 0.66101256 0.18697814 0.81771941]\n",
      " [0.90084349 0.66986758 0.18304613 0.72947978 0.07493001 0.11165066\n",
      "  0.09381015 0.15345286 0.37418019 0.35880664]\n",
      " [0.7627874  0.20369624 0.36330406 0.96884304 0.70014036 0.60655974\n",
      "  0.34676961 0.64084291 0.74356315 0.41926912]]\n",
      "\n",
      "max value is 0.9998480962705415\n",
      "\n",
      "min value is 0.0020030702121235366\n"
     ]
    }
   ],
   "source": [
    "# 10x10 array of random numbers and result\n",
    "random_array_10 = np.random.rand(10,10)\n",
    "\n",
    "print(random_array_10)\n",
    "\n",
    "# prints min and max random generated number\n",
    "print(\"\\nmax value is\",np.max(random_array_10))\n",
    "\n",
    "print(\"\\nmin value is\",np.min(random_array_10))"
   ]
  },
  {
   "cell_type": "markdown",
   "metadata": {},
   "source": [
    "14. Create a random vector of size 30 and find the mean value \n",
    "    \n",
    "    "
   ]
  },
  {
   "cell_type": "code",
   "execution_count": 20,
   "metadata": {},
   "outputs": [
    {
     "name": "stdout",
     "output_type": "stream",
     "text": [
      "[0.82421224 0.70580617 0.80107379 0.03691118 0.30039325 0.46079249\n",
      " 0.12953655 0.66014818 0.36088679 0.86813877 0.05934723 0.43572113\n",
      " 0.49544336 0.74069737 0.10634164 0.51781306 0.98861544 0.58477368\n",
      " 0.19868623 0.72809833 0.17228044 0.63112825 0.80056208 0.06001381\n",
      " 0.11829353 0.76483987 0.70521921 0.1923012  0.67518834 0.76797108]\n",
      "\n",
      "mean is: 0.49637448972654374\n"
     ]
    }
   ],
   "source": [
    "# Create a random vector of size 30 \n",
    "random_vector = np.random.rand(30)\n",
    "\n",
    "# prints result\n",
    "print(random_vector)\n",
    "\n",
    "# find the mean value \n",
    "mean_random_vector = np.sum(random_vector)/30\n",
    "\n",
    "print(\"\\nmean is:\", mean_random_vector)"
   ]
  },
  {
   "cell_type": "markdown",
   "metadata": {},
   "source": [
    "15. Create a 2d array with 1 on the border and 0 inside\n",
    "\n",
    "16. How to add a border (filled with 0's) around an existing array?\n",
    "\n"
   ]
  },
  {
   "cell_type": "code",
   "execution_count": 29,
   "metadata": {},
   "outputs": [
    {
     "name": "stdout",
     "output_type": "stream",
     "text": [
      "[[1. 1. 1.]\n",
      " [1. 0. 1.]\n",
      " [1. 1. 1.]]\n",
      "\n",
      " Border filled with zeros\n",
      " [[0. 0. 0.]\n",
      " [0. 0. 0.]\n",
      " [0. 0. 0.]]\n"
     ]
    }
   ],
   "source": [
    "import numpy as np\n",
    "\n",
    "# dimensions of the 2D array as 3x3\n",
    "rows, cols = 3, 3\n",
    "\n",
    "# create a 2D array filled with zeros\n",
    "array_2d = np.zeros((rows, cols))\n",
    "\n",
    "# Set the border elements to 1\n",
    "array_2d[0, :] = 1  # Top row\n",
    "array_2d[-1, :] = 1  # Bottom row\n",
    "array_2d[:, 0] = 1  # Leftmost column\n",
    "array_2d[:, -1] = 1  # Rightmost column\n",
    "\n",
    "print(array_2d)\n",
    "\n",
    "# How to add a border (filled with 0's) around an existing array?\n",
    "x = np.zeros((3, 3))\n",
    "\n",
    "# Print result\n",
    "print('\\n Border filled with zeros\\n',x)"
   ]
  },
  {
   "cell_type": "markdown",
   "metadata": {},
   "source": [
    "17. What is the result of the following expression? \n",
    "\n",
    "0 * np.nan  \n",
    "np.nan == np.nan  \n",
    "np.inf > np.nan  \n",
    "np.nan - np.nan  \n",
    "np.nan in set([np.nan])  \n",
    "0.3 == 3 * 0.1  "
   ]
  },
  {
   "cell_type": "code",
   "execution_count": 30,
   "metadata": {},
   "outputs": [
    {
     "data": {
      "text/plain": [
       "False"
      ]
     },
     "execution_count": 30,
     "metadata": {},
     "output_type": "execute_result"
    }
   ],
   "source": [
    "\n",
    "0 * np.nan\n",
    "np.nan == np.nan\n",
    "np.inf > np.nan\n",
    "np.nan - np.nan\n",
    "np.nan in set([np.nan])\n",
    "0.3 == 3 * 0.1"
   ]
  },
  {
   "cell_type": "markdown",
   "metadata": {},
   "source": [
    "18. Create a 5x5 matrix with values 1,2,3,4 just below the diagonal  \n",
    "\n",
    "19. Create a 8x8 matrix and fill it with a checkerboard pattern\n",
    " "
   ]
  },
  {
   "cell_type": "code",
   "execution_count": 36,
   "metadata": {},
   "outputs": [
    {
     "name": "stdout",
     "output_type": "stream",
     "text": [
      "\n",
      "5 by 5 matrix\n",
      " [[0. 0. 0. 0. 0.]\n",
      " [1. 0. 0. 0. 0.]\n",
      " [0. 2. 0. 0. 0.]\n",
      " [0. 0. 3. 0. 0.]\n",
      " [0. 0. 0. 4. 0.]]\n",
      "\n",
      "chekerboard matrix\n",
      " [[1 0 1 0 1 0 1 0]\n",
      " [0 1 0 1 0 1 0 1]\n",
      " [1 0 1 0 1 0 1 0]\n",
      " [0 1 0 1 0 1 0 1]\n",
      " [1 0 1 0 1 0 1 0]\n",
      " [0 1 0 1 0 1 0 1]\n",
      " [1 0 1 0 1 0 1 0]\n",
      " [0 1 0 1 0 1 0 1]]\n"
     ]
    }
   ],
   "source": [
    "import numpy as np\n",
    "\n",
    "# Create a 5x5 matrix filled with zeros\n",
    "matrix = np.zeros((5, 5))\n",
    "\n",
    "# Set the values 1234 just below the diagonal\n",
    "matrix[1, 0] = 1\n",
    "matrix[2, 1] = 2\n",
    "matrix[3, 2] = 3\n",
    "matrix[4, 3] = 4\n",
    "\n",
    "print(\"\\n5 by 5 matrix\\n\",matrix)\n",
    "\n",
    "# Create an 8x8 matrix filled with zeros\n",
    "cmatrix = np.zeros((8, 8), dtype=int)\n",
    "\n",
    "# Set even rows and even columns to 1 using slicing\n",
    "cmatrix[::2, ::2] = 1\n",
    "\n",
    "# Set odd rows and odd columns to 1 using slicing\n",
    "cmatrix[1::2, 1::2] = 1\n",
    "\n",
    "print(\"\\nchekerboard matrix\\n\",cmatrix)\n",
    "\n"
   ]
  },
  {
   "cell_type": "markdown",
   "metadata": {},
   "source": [
    "21. Create a checkerboard 8x8 matrix using the tile function\n",
    "\n",
    "22. Normalize a 5x5 random matrix"
   ]
  },
  {
   "cell_type": "code",
   "execution_count": 43,
   "metadata": {},
   "outputs": [
    {
     "name": "stdout",
     "output_type": "stream",
     "text": [
      "Checkerboard using np.tile\n",
      " [[0 1 0 1 0 1 0 1]\n",
      " [1 0 1 0 1 0 1 0]\n",
      " [0 1 0 1 0 1 0 1]\n",
      " [1 0 1 0 1 0 1 0]\n",
      " [0 1 0 1 0 1 0 1]\n",
      " [1 0 1 0 1 0 1 0]\n",
      " [0 1 0 1 0 1 0 1]\n",
      " [1 0 1 0 1 0 1 0]]\n",
      "\n",
      "Original Matrix:\n",
      "[[0.71760211 0.25036171 0.87660968 0.80843638 0.72115395]\n",
      " [0.48358228 0.86391935 0.70831965 0.46888454 0.27478722]\n",
      " [0.07796253 0.37532628 0.4908535  0.2628712  0.93266127]\n",
      " [0.89221658 0.99464151 0.71642805 0.37089411 0.35969212]\n",
      " [0.86898465 0.66957698 0.65539249 0.34730992 0.7710135 ]]\n",
      "\n",
      "Normalized Matrix:\n",
      "[[0.69777925 0.18806931 0.87123973 0.79686986 0.70165393]\n",
      " [0.44248833 0.85739592 0.68765307 0.42645465 0.21471496]\n",
      " [0.         0.32439246 0.45042046 0.20171584 0.93238609]\n",
      " [0.88826521 1.         0.69649848 0.31955744 0.30733724]\n",
      " [0.86292163 0.64538891 0.62991513 0.29382957 0.75604545]]\n"
     ]
    }
   ],
   "source": [
    "import numpy as np\n",
    "\n",
    "# Create the checkerboard pattern\n",
    "checkerboard = np.array([[0, 1], [1, 0]])\n",
    "\n",
    "# Use np.tile() to create checkerboard pattern of 8x8 matrix\n",
    "checkerboard_8x8 = np.tile(checkerboard, (4, 4))\n",
    "\n",
    "print(\"Checkerboard using np.tile\\n\",checkerboard_8x8)\n",
    "\n",
    "# normalized_value = max_value − min_value / value − min_value\n",
    "\n",
    "# first create a 5x5 random matrix\n",
    "random_matrix = np.random.rand(5, 5)\n",
    "print(\"\\nOriginal Matrix:\")\n",
    "print(random_matrix)\n",
    "\n",
    "# Find the minimum and maximum values of the matrix\n",
    "min_value = np.min(random_matrix)\n",
    "max_value = np.max(random_matrix)\n",
    "\n",
    "# Normalize the matrix \n",
    "normalized_matrix = (random_matrix - min_value) / (max_value - min_value)\n",
    "\n",
    "print(\"\\nNormalized Matrix:\")\n",
    "print(normalized_matrix)"
   ]
  },
  {
   "cell_type": "markdown",
   "metadata": {},
   "source": [
    "23. Create a custom dtype that describes a color as four unsigned bytes (RGBA)\n",
    "\n",
    "24. Multiply a 5x3 matrix by a 3x2 matrix (real matrix product) \n",
    "    \n",
    "25. Given a 1D array, negate all elements which are between 3 and 8, in place. \n",
    "    \n"
   ]
  },
  {
   "cell_type": "code",
   "execution_count": 56,
   "metadata": {},
   "outputs": [
    {
     "name": "stdout",
     "output_type": "stream",
     "text": [
      "[('r', 'u1'), ('g', 'u1'), ('b', 'u1'), ('a', 'u1')]\n",
      "\n",
      "Result of matrix multiplication:\n",
      " [[0.920164   0.86285201]\n",
      " [0.90218843 0.61995207]\n",
      " [0.7999115  1.22904437]\n",
      " [0.55032121 0.47251446]\n",
      " [0.80237414 0.81173615]]\n",
      "\n",
      "Array after negating elements between 3 and 8:\n",
      "[-4 -6 -5 -5 -7]\n"
     ]
    }
   ],
   "source": [
    "color = np.dtype([(\"r\", np.ubyte),(\"g\", np.ubyte),(\"b\", np.ubyte),(\"a\", np.ubyte)])\n",
    "\n",
    "print(color)\n",
    "\n",
    "\n",
    "# Create a 5x3 matrix\n",
    "matrix1 = np.random.rand(5, 3)\n",
    "\n",
    "# Create a 3x2 matrix\n",
    "matrix2 = np.random.rand(3, 2)\n",
    "\n",
    "# Perform matrix multiplication\n",
    "result = np.dot(matrix1, matrix2)\n",
    "\n",
    "print(\"\\nResult of matrix multiplication:\\n\",result)\n",
    "\n",
    "\n",
    "# Create a 1D array\n",
    "array = np.array([3, 4, 6, 5, 5, 7, 8, 9])\n",
    "\n",
    "# Negate elements between 3 and 8\n",
    "x=array[(array > 3) & (array < 8)] * -1\n",
    "\n",
    "print(\"\\nArray after negating elements between 3 and 8:\")\n",
    "print(x)\n",
    "\n"
   ]
  },
  {
   "cell_type": "markdown",
   "metadata": {},
   "source": [
    "27. What is the output of the following script?\n",
    "\n",
    "print(sum(range(5),-1))  \n",
    "from numpy import *  \n",
    "print(sum(range(5),-1))  "
   ]
  },
  {
   "cell_type": "code",
   "execution_count": 57,
   "metadata": {},
   "outputs": [
    {
     "name": "stdout",
     "output_type": "stream",
     "text": [
      "9\n",
      "10\n"
     ]
    }
   ],
   "source": [
    "print(sum(range(5),-1))\n",
    "from numpy import *\n",
    "print(sum(range(5),-1))"
   ]
  },
  {
   "cell_type": "markdown",
   "metadata": {},
   "source": [
    "27. Consider an integer vector Z, which of these expressions are legal?"
   ]
  },
  {
   "cell_type": "code",
   "execution_count": 63,
   "metadata": {},
   "outputs": [
    {
     "name": "stdout",
     "output_type": "stream",
     "text": [
      "4\n",
      "2\n",
      "False\n",
      "2j\n",
      "2.0\n",
      "False\n"
     ]
    }
   ],
   "source": [
    "# assign Z a value\n",
    "Z=2\n",
    "\n",
    "# play around with print, if no error it means all are legal\n",
    "print(Z**Z)\n",
    "print(2 << Z >> 2)\n",
    "print(Z <- Z)\n",
    "print(1j*Z)\n",
    "print(Z/1/1)\n",
    "print(Z<Z>Z)"
   ]
  },
  {
   "cell_type": "markdown",
   "metadata": {},
   "source": [
    "28. What are the result of the following expressions? \n",
    "\n",
    "np.array(0) / np.array(0)  \n",
    "np.array(0) // np.array(0)  \n",
    "np.array([np.nan]).astype(int).astype(float)  "
   ]
  },
  {
   "cell_type": "code",
   "execution_count": 64,
   "metadata": {},
   "outputs": [
    {
     "name": "stderr",
     "output_type": "stream",
     "text": [
      "/var/folders/np/h_r8frds63z84q8kndjycxt40000gn/T/ipykernel_11713/1119427974.py:1: RuntimeWarning: invalid value encountered in divide\n",
      "  np.array(0) / np.array(0)\n",
      "/var/folders/np/h_r8frds63z84q8kndjycxt40000gn/T/ipykernel_11713/1119427974.py:2: RuntimeWarning: divide by zero encountered in floor_divide\n",
      "  np.array(0) // np.array(0)\n",
      "/var/folders/np/h_r8frds63z84q8kndjycxt40000gn/T/ipykernel_11713/1119427974.py:3: RuntimeWarning: invalid value encountered in cast\n",
      "  np.array([np.nan]).astype(int).astype(float)\n"
     ]
    },
    {
     "data": {
      "text/plain": [
       "array([0.])"
      ]
     },
     "execution_count": 64,
     "metadata": {},
     "output_type": "execute_result"
    }
   ],
   "source": [
    "\n",
    "np.array(0) / np.array(0)\n",
    "np.array(0) // np.array(0)\n",
    "np.array([np.nan]).astype(int).astype(float)"
   ]
  },
  {
   "cell_type": "markdown",
   "metadata": {},
   "source": [
    "29.  How to round away from zero a float array ?\n",
    "  \n",
    "30.  How to find common values between two arrays?\n",
    "    \n",
    "31.  How to ignore all numpy warnings (not recommended)? \n",
    "    \n",
    "32.  Is the following expressions true?   \n",
    "        np.sqrt(-1) == np.emath.sqrt(-1)"
   ]
  },
  {
   "cell_type": "code",
   "execution_count": 66,
   "metadata": {},
   "outputs": [
    {
     "name": "stdout",
     "output_type": "stream",
     "text": [
      "To round away from zero a float array, you can use numpy.ceil()\n",
      "\n",
      "To find common values between two arrays, you can use numpy.intersect1d() function\n",
      "\n",
      "To ignore all NumPy warnings use the numpy.seterr() function with the all parameter set to 'ignore\n"
     ]
    },
    {
     "data": {
      "text/plain": [
       "False"
      ]
     },
     "execution_count": 66,
     "metadata": {},
     "output_type": "execute_result"
    }
   ],
   "source": [
    "print(\"To round away from zero a float array, you can use numpy.ceil()\\n\")\n",
    "\n",
    "print(\"To find common values between two arrays, you can use numpy.intersect1d() function\\n\")\n",
    "\n",
    "print(\"To ignore all NumPy warnings use the numpy.seterr() function with the all parameter set to 'ignore\")\n",
    "np.seterr(all='ignore')\n",
    "\n",
    "np.sqrt(-1) == np.emath.sqrt(-1)"
   ]
  },
  {
   "cell_type": "markdown",
   "metadata": {},
   "source": [
    "33.  How to get the dates of yesterday, today and tomorrow? \n",
    "\n",
    "34.  How to get all the dates corresponding to the month of July 2016? \n",
    "\n",
    "35.  How to compute ((A+B)*(-A/2)) in place (without copy)? \n",
    "\n"
   ]
  },
  {
   "cell_type": "code",
   "execution_count": 76,
   "metadata": {},
   "outputs": [
    {
     "name": "stdout",
     "output_type": "stream",
     "text": [
      "yesterday was 2024-02-22\n",
      "today is 2024-02-23\n",
      "tomorrow will be 2024-02-24\n",
      "\n",
      " Dates coresponding to 2016-07 include:\n",
      " ['2016-07-01' '2016-07-02' '2016-07-03' '2016-07-04' '2016-07-05'\n",
      " '2016-07-06' '2016-07-07' '2016-07-08' '2016-07-09' '2016-07-10'\n",
      " '2016-07-11' '2016-07-12' '2016-07-13' '2016-07-14' '2016-07-15'\n",
      " '2016-07-16' '2016-07-17' '2016-07-18' '2016-07-19' '2016-07-20'\n",
      " '2016-07-21' '2016-07-22' '2016-07-23' '2016-07-24' '2016-07-25'\n",
      " '2016-07-26' '2016-07-27' '2016-07-28' '2016-07-29' '2016-07-30'\n",
      " '2016-07-31']\n",
      "\n",
      "Result is [3.5 4.  4.5]\n"
     ]
    }
   ],
   "source": [
    "yesterday = np.datetime64('today') - np.timedelta64(1)\n",
    "today     = np.datetime64('today')\n",
    "tomorrow  = np.datetime64('today') + np.timedelta64(1)\n",
    "\n",
    "print(\"yesterday was\",yesterday)\n",
    "print(\"today is\", today)\n",
    "print(\"tomorrow will be\", tomorrow)\n",
    "\n",
    "# How to get all the dates corresponding to the month of July 2016?\n",
    "newdate = np.arange('2016-07', '2016-08', dtype='datetime64[D]')\n",
    "print(\"\\n Dates coresponding to 2016-07 include:\\n\",newdate)\n",
    "\n",
    "\n",
    "# How to compute ((A+B)*(-A/2)) in place (without copy)?\n",
    "\n",
    "# Define arrays A and B\n",
    "A = np.array([1, 2, 3])\n",
    "B = np.array([4, 5, 6])\n",
    "\n",
    "A = A*(-0.5)\n",
    "A = A + B \n",
    "result = A\n",
    "\n",
    "print(\"\\nResult is\",result)\n"
   ]
  },
  {
   "cell_type": "markdown",
   "metadata": {},
   "source": [
    "36.  Extract the integer part of a random array of positive numbers using 4 different methods \n",
    "\n",
    "37.  Create a 5x5 matrix with row values ranging from 0 to 4"
   ]
  },
  {
   "cell_type": "code",
   "execution_count": 79,
   "metadata": {},
   "outputs": [
    {
     "name": "stdout",
     "output_type": "stream",
     "text": [
      "\n",
      "Integer part using np.floor():\n",
      "[[4. 2. 3. 4. 2.]\n",
      " [1. 2. 4. 4. 4.]\n",
      " [2. 0. 3. 3. 4.]\n",
      " [2. 4. 4. 3. 4.]\n",
      " [2. 2. 2. 1. 5.]]\n",
      "\n",
      "5x5 matrix with row values ranging from 0 to 4:\n",
      "[[0 1 2 3 4]\n",
      " [0 1 2 3 4]\n",
      " [0 1 2 3 4]\n",
      " [0 1 2 3 4]\n",
      " [0 1 2 3 4]]\n"
     ]
    }
   ],
   "source": [
    "# Create a random array \n",
    "random_array = np.random.rand(5, 5) * 6\n",
    "\n",
    "# using np.floor()\n",
    "integer_part = np.floor(random_array)\n",
    "\n",
    "print(\"\\nInteger part using np.floor():\")\n",
    "print(integer_part)\n",
    "\n",
    "\n",
    "# Create a 5x5 matrix with row values ranging from 0 to 4\n",
    "matrix = np.tile(np.arange(5), (5, 1))\n",
    "\n",
    "print(\"\\n5x5 matrix with row values ranging from 0 to 4:\")\n",
    "print(matrix)"
   ]
  },
  {
   "cell_type": "markdown",
   "metadata": {},
   "source": [
    "38.  Consider a generator function that generates 10 integers and use it to build an array \n",
    "\n",
    "39.  Create a vector of size 10 with values ranging from 0 to 1, both excluded  "
   ]
  },
  {
   "cell_type": "code",
   "execution_count": 81,
   "metadata": {},
   "outputs": [
    {
     "name": "stdout",
     "output_type": "stream",
     "text": [
      "Array from the generator function:\n",
      " [0 1 2 3 4 5 6 7 8 9]\n",
      "\n",
      "Vector of size 10 with values ranging from 0 to 1, both excluded:\n",
      " [0.09090909 0.18181818 0.27272727 0.36363636 0.45454545 0.54545455\n",
      " 0.63636364 0.72727273 0.81818182 0.90909091]\n"
     ]
    }
   ],
   "source": [
    "# Generator function to generate 10 integers\n",
    "def generate_integers():\n",
    "    for i in range(10):\n",
    "        yield i\n",
    "\n",
    "# build an array using the generator function\n",
    "array_from_generator = np.fromiter(generate_integers(), dtype=int)\n",
    "\n",
    "print(\"Array from the generator function:\\n\",array_from_generator)\n",
    "\n",
    "# Create a vector of size 10 with values ranging from 0 to 1, both excluded\n",
    "vector = np.linspace(0, 1, 12)[1:-1]\n",
    "\n",
    "print(\"\\nVector of size 10 with values ranging from 0 to 1, both excluded:\\n\",vector)\n"
   ]
  },
  {
   "cell_type": "markdown",
   "metadata": {},
   "source": [
    "40.  Create a random vector of size 10 and sort it \n",
    "   \n",
    "41.  How to sum a small array faster than np.sum?"
   ]
  },
  {
   "cell_type": "code",
   "execution_count": 86,
   "metadata": {},
   "outputs": [
    {
     "name": "stdout",
     "output_type": "stream",
     "text": [
      "Random vector of size 10:\n",
      "[0.78956416 0.41640442 0.53832558 0.94560995 0.47416288 0.71184284\n",
      " 0.68450692 0.87439876 0.80610976 0.12787425]\n",
      "\n",
      "Sorted vector:\n",
      "[0.12787425 0.41640442 0.47416288 0.53832558 0.68450692 0.71184284\n",
      " 0.78956416 0.80610976 0.87439876 0.94560995] \n",
      "\n",
      "Sum using np.add.reduce() =  15\n"
     ]
    }
   ],
   "source": [
    "random_vector = np.random.rand(10)\n",
    "sorted_vector = np.sort(random_vector)\n",
    "\n",
    "print(\"Random vector of size 10:\")\n",
    "print(random_vector)\n",
    "print(\"\\nSorted vector:\")\n",
    "print(sorted_vector,\"\\n\")\n",
    "\n",
    "\n",
    "# How to sum a small array faster than np.sum?\n",
    "small_array = np.array([1, 2, 3, 4, 5])\n",
    "\n",
    "# Using np.add.reduce()\n",
    "sum_using_np_add_reduce = np.add.reduce(small_array)\n",
    "\n",
    "print(\"Sum using np.add.reduce() = \", sum_using_np_add_reduce)"
   ]
  },
  {
   "cell_type": "markdown",
   "metadata": {},
   "source": [
    "42.  Consider two random array A and B, check if they are equal \n",
    "   \n",
    "43.  Make an array immutable (read-only)"
   ]
  },
  {
   "cell_type": "code",
   "execution_count": 87,
   "metadata": {},
   "outputs": [
    {
     "name": "stdout",
     "output_type": "stream",
     "text": [
      "Array A: [0.58149535 0.1028402  0.89301237 0.96140211 0.24462165]\n",
      "Array B: [0.79225117 0.3126141  0.26358707 0.85763386 0.9979705 ]\n",
      "\n",
      "Arrays A and B are not equal.\n"
     ]
    },
    {
     "ename": "ValueError",
     "evalue": "assignment destination is read-only",
     "output_type": "error",
     "traceback": [
      "\u001b[0;31m---------------------------------------------------------------------------\u001b[0m",
      "\u001b[0;31mValueError\u001b[0m                                Traceback (most recent call last)",
      "Cell \u001b[0;32mIn[87], line 16\u001b[0m\n\u001b[1;32m     14\u001b[0m readonly \u001b[39m=\u001b[39m np\u001b[39m.\u001b[39mzeros(\u001b[39m10\u001b[39m)\n\u001b[1;32m     15\u001b[0m readonly\u001b[39m.\u001b[39mflags\u001b[39m.\u001b[39mwriteable \u001b[39m=\u001b[39m \u001b[39mFalse\u001b[39;00m\n\u001b[0;32m---> 16\u001b[0m readonly[\u001b[39m0\u001b[39;49m] \u001b[39m=\u001b[39m \u001b[39m1\u001b[39m\n",
      "\u001b[0;31mValueError\u001b[0m: assignment destination is read-only"
     ]
    }
   ],
   "source": [
    "A = np.random.rand(5)\n",
    "B = np.random.rand(5)\n",
    "\n",
    "print(\"Array A:\", A)\n",
    "print(\"Array B:\", B)\n",
    "\n",
    "if np.array_equal(A, B):\n",
    "    print(\"\\nArrays A and B are equal.\")\n",
    "else:\n",
    "    print(\"\\nArrays A and B are not equal.\")\n",
    "    \n",
    "\n",
    "# Make an array immutable (read-only)\n",
    "readonly = np.zeros(10)\n",
    "readonly.flags.writeable = False\n",
    "readonly[0] = 1"
   ]
  },
  {
   "cell_type": "markdown",
   "metadata": {},
   "source": []
  },
  {
   "cell_type": "code",
   "execution_count": null,
   "metadata": {},
   "outputs": [],
   "source": []
  },
  {
   "cell_type": "markdown",
   "metadata": {},
   "source": []
  },
  {
   "cell_type": "code",
   "execution_count": null,
   "metadata": {},
   "outputs": [],
   "source": []
  },
  {
   "cell_type": "markdown",
   "metadata": {},
   "source": []
  },
  {
   "cell_type": "code",
   "execution_count": null,
   "metadata": {},
   "outputs": [],
   "source": []
  }
 ],
 "metadata": {
  "kernelspec": {
   "display_name": "adsatesting",
   "language": "python",
   "name": "python3"
  },
  "language_info": {
   "codemirror_mode": {
    "name": "ipython",
    "version": 3
   },
   "file_extension": ".py",
   "mimetype": "text/x-python",
   "name": "python",
   "nbconvert_exporter": "python",
   "pygments_lexer": "ipython3",
   "version": "3.10.13"
  }
 },
 "nbformat": 4,
 "nbformat_minor": 2
}

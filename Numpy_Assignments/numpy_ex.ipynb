{
 "cells": [
  {
   "cell_type": "markdown",
   "metadata": {},
   "source": [
    "## NUMPY PRACTICE EXERCISES\n",
    "\n",
    "#### Source:\n",
    "https://github.com/arewadataScience/ArewaDS-Machine-Learning/blob/main/100_numpy_exercise.md"
   ]
  },
  {
   "cell_type": "markdown",
   "metadata": {},
   "source": [
    "1. Import the numpy package under the name np\n",
    "2. Print the numpy version and the configuration"
   ]
  },
  {
   "cell_type": "code",
   "execution_count": 12,
   "metadata": {},
   "outputs": [
    {
     "name": "stdout",
     "output_type": "stream",
     "text": [
      "NumPy Version is: 1.26.2\n",
      "NumPy Configuration is:\n",
      "{\n",
      "  \"Compilers\": {\n",
      "    \"c\": {\n",
      "      \"name\": \"clang\",\n",
      "      \"linker\": \"ld64\",\n",
      "      \"version\": \"14.0.6\",\n",
      "      \"commands\": \"arm64-apple-darwin20.0.0-clang\"\n",
      "    },\n",
      "    \"cython\": {\n",
      "      \"name\": \"cython\",\n",
      "      \"linker\": \"cython\",\n",
      "      \"version\": \"3.0.0\",\n",
      "      \"commands\": \"cython\"\n",
      "    },\n",
      "    \"c++\": {\n",
      "      \"name\": \"clang\",\n",
      "      \"linker\": \"ld64\",\n",
      "      \"version\": \"14.0.6\",\n",
      "      \"commands\": \"arm64-apple-darwin20.0.0-clang++\"\n",
      "    }\n",
      "  },\n",
      "  \"Machine Information\": {\n",
      "    \"host\": {\n",
      "      \"cpu\": \"aarch64\",\n",
      "      \"family\": \"aarch64\",\n",
      "      \"endian\": \"little\",\n",
      "      \"system\": \"darwin\"\n",
      "    },\n",
      "    \"build\": {\n",
      "      \"cpu\": \"aarch64\",\n",
      "      \"family\": \"aarch64\",\n",
      "      \"endian\": \"little\",\n",
      "      \"system\": \"darwin\"\n",
      "    }\n",
      "  },\n",
      "  \"Build Dependencies\": {\n",
      "    \"blas\": {\n",
      "      \"name\": \"openblas\",\n",
      "      \"found\": true,\n",
      "      \"version\": \"0.3.21\",\n",
      "      \"detection method\": \"pkgconfig\",\n",
      "      \"include directory\": \"/Users/ruqayyanasiriro/miniconda3/envs/adsatesting/include\",\n",
      "      \"lib directory\": \"/Users/ruqayyanasiriro/miniconda3/envs/adsatesting/lib\",\n",
      "      \"openblas configuration\": \"USE_64BITINT= DYNAMIC_ARCH=1 DYNAMIC_OLDER= NO_CBLAS= NO_LAPACK=0 NO_LAPACKE= NO_AFFINITY=1 USE_OPENMP=0 VORTEX MAX_THREADS=128\",\n",
      "      \"pc file directory\": \"/Users/ruqayyanasiriro/miniconda3/envs/adsatesting/lib/pkgconfig\"\n",
      "    },\n",
      "    \"lapack\": {\n",
      "      \"name\": \"dep4346664256\",\n",
      "      \"found\": true,\n",
      "      \"version\": \"1.26.2\",\n",
      "      \"detection method\": \"internal\",\n",
      "      \"include directory\": \"unknown\",\n",
      "      \"lib directory\": \"unknown\",\n",
      "      \"openblas configuration\": \"unknown\",\n",
      "      \"pc file directory\": \"unknown\"\n",
      "    }\n",
      "  },\n",
      "  \"Python Information\": {\n",
      "    \"path\": \"/Users/ruqayyanasiriro/miniconda3/envs/adsatesting/bin/python\",\n",
      "    \"version\": \"3.10\"\n",
      "  },\n",
      "  \"SIMD Extensions\": {\n",
      "    \"baseline\": [\n",
      "      \"NEON\",\n",
      "      \"NEON_FP16\",\n",
      "      \"NEON_VFPV4\",\n",
      "      \"ASIMD\"\n",
      "    ],\n",
      "    \"found\": [\n",
      "      \"ASIMDHP\"\n",
      "    ],\n",
      "    \"not found\": [\n",
      "      \"ASIMDFHM\"\n",
      "    ]\n",
      "  }\n",
      "}\n",
      "None\n"
     ]
    }
   ],
   "source": [
    "import numpy as np\n",
    "\n",
    "# Print NumPy version and configuration\n",
    "print(\"NumPy Version is:\", np.__version__)\n",
    "print(\"NumPy Configuration is:\") \n",
    "print(np.show_config())\n",
    "\n"
   ]
  },
  {
   "cell_type": "markdown",
   "metadata": {},
   "source": [
    "3. Create a null vector of size 10  \n",
    "4. How to find the memory size of any array "
   ]
  },
  {
   "cell_type": "code",
   "execution_count": 14,
   "metadata": {},
   "outputs": [
    {
     "name": "stdout",
     "output_type": "stream",
     "text": [
      "Null vector of size 10: [0. 0. 0. 0. 0. 0. 0. 0. 0. 0.]\n",
      "Memory size of the array: 80 bytes\n"
     ]
    }
   ],
   "source": [
    "import numpy as np\n",
    "\n",
    "# Create a null vector of size 10\n",
    "null_vector = np.zeros(10)\n",
    "print(\"Null vector of size 10:\", null_vector)\n",
    "\n",
    "# Find the memory size of any array taking null vector above as example\n",
    "memory_size = null_vector.nbytes\n",
    "print(\"Memory size of the array:\", memory_size, \"bytes\")\n"
   ]
  },
  {
   "cell_type": "markdown",
   "metadata": {},
   "source": [
    "5. How to get the documentation of the numpy add function from the command line? \n",
    "   \n",
    "  **ANSWER:** we use np.info(np.add). It will give the documentation of the 'add' function.\n",
    "  \n",
    "  \n",
    "   \n",
    "6. Create a null vector of size 10 but the fifth value which is 1 \n",
    "   \n",
    "7. Create a vector with values ranging from 10 to 49 \n",
    "   \n",
    "8.  Reverse a vector (first element becomes last)\n",
    "   "
   ]
  },
  {
   "cell_type": "code",
   "execution_count": 17,
   "metadata": {},
   "outputs": [
    {
     "name": "stdout",
     "output_type": "stream",
     "text": [
      "Null vector where 5th value is 1 = [0. 0. 0. 0. 1. 0. 0. 0. 0. 0.]\n",
      "\n",
      "Vector with values ranging from 10 to 49 =  [10 11 12 13 14 15 16 17 18 19 20 21 22 23 24 25 26 27 28 29 30 31 32 33\n",
      " 34 35 36 37 38 39 40 41 42 43 44 45 46 47 48 49]\n",
      "\n",
      "Reversed vector is [49 48 47 46 45 44 43 42 41 40 39 38 37 36 35 34 33 32 31 30 29 28 27 26\n",
      " 25 24 23 22 21 20 19 18 17 16 15 14 13 12 11 10]\n"
     ]
    }
   ],
   "source": [
    "import numpy as np\n",
    "\n",
    "# Create a null vector of size 10 but the fifth value which is 1\n",
    "null_vector = np.zeros(10)\n",
    "null_vector[4] = 1\n",
    "print(\"Null vector where 5th value is 1 =\", null_vector)\n",
    "\n",
    "# Create a vector with values ranging from 10 to 49 using np.arange()\n",
    "vector_range = np.arange(10, 50)\n",
    "print(\"\\nVector with values ranging from 10 to 49 = \", vector_range)\n",
    "\n",
    "# Reverse a vector using vector range from above\n",
    "reversed_vector = np.flip(vector_range)\n",
    "print(\"\\nReversed vector is\", reversed_vector)\n"
   ]
  },
  {
   "cell_type": "markdown",
   "metadata": {},
   "source": [
    "9. Create a 3x3 matrix with values ranging from 0 to 8 \n",
    "    \n",
    "10. Find indices of non-zero elements from [1,2,0,0,4,0]"
   ]
  },
  {
   "cell_type": "code",
   "execution_count": 25,
   "metadata": {},
   "outputs": [
    {
     "name": "stdout",
     "output_type": "stream",
     "text": [
      "[[0 1 2]\n",
      " [3 4 5]\n",
      " [6 7 8]]\n",
      "(array([0, 1, 4]),)\n"
     ]
    }
   ],
   "source": [
    "import numpy as np\n",
    "\n",
    "# create 3x3 matrix, range 0-8\n",
    "three_by_three = np.arange(0, 9).reshape(3,3)\n",
    "\n",
    "# print result\n",
    "print(three_by_three)\n",
    "\n",
    "# given array\n",
    "arr = np.array([1, 2, 0, 0, 4, 0])\n",
    "\n",
    "#identifies the indices of elements that are non-zero.\n",
    "indices_nonzero = np.nonzero(arr)\n",
    "\n",
    "# prints output\n",
    "print(indices_nonzero)"
   ]
  },
  {
   "cell_type": "markdown",
   "metadata": {},
   "source": [
    "11.  Create a 3x3 identity matrix \n",
    "   \n",
    "12.  Create a 3x3x3 array with random values"
   ]
  },
  {
   "cell_type": "code",
   "execution_count": 18,
   "metadata": {},
   "outputs": [
    {
     "name": "stdout",
     "output_type": "stream",
     "text": [
      "[[1. 0. 0.]\n",
      " [0. 1. 0.]\n",
      " [0. 0. 1.]]\n",
      "\n",
      "3x3x3 array:\n",
      " [[[0.64990161 0.93643386 0.67420505]\n",
      "  [0.72361468 0.97651342 0.86096396]\n",
      "  [0.88430237 0.59985661 0.82301981]]\n",
      "\n",
      " [[0.04475813 0.78127797 0.39957837]\n",
      "  [0.95652449 0.37569051 0.06833121]\n",
      "  [0.6452381  0.42273315 0.52667437]]\n",
      "\n",
      " [[0.13397625 0.10791948 0.0142508 ]\n",
      "  [0.01976379 0.29985953 0.38714354]\n",
      "  [0.77142603 0.3730331  0.90535606]]]\n"
     ]
    }
   ],
   "source": [
    "import numpy as np\n",
    "\n",
    "# Create a 3x3 identity matrix\n",
    "identity_matrix = np.identity(3)\n",
    "print(identity_matrix)\n",
    "\n",
    "# Create a 3x3x3 array with random values\n",
    "random_array = np.random.random((3, 3, 3))\n",
    "print(\"\\n3x3x3 array:\\n\",random_array)\n"
   ]
  },
  {
   "cell_type": "markdown",
   "metadata": {},
   "source": [
    "13.  Create a 10x10 array with random values and find the minimum and maximum values\n",
    "   \n"
   ]
  },
  {
   "cell_type": "code",
   "execution_count": 16,
   "metadata": {},
   "outputs": [
    {
     "name": "stdout",
     "output_type": "stream",
     "text": [
      "[[0.72039015 0.09369841 0.72873494 0.22228938 0.06523871 0.61859414\n",
      "  0.2845161  0.53928405 0.19231507 0.17979439]\n",
      " [0.95476376 0.37805859 0.17744809 0.28554068 0.73021984 0.02174129\n",
      "  0.7452342  0.74529583 0.59142306 0.7688509 ]\n",
      " [0.13002406 0.68732518 0.85830626 0.33164867 0.26285724 0.9998481\n",
      "  0.78274774 0.28837482 0.30349986 0.56336726]\n",
      " [0.46721595 0.51993929 0.24443317 0.80123172 0.5911429  0.04585177\n",
      "  0.78965858 0.12381675 0.3533921  0.85838522]\n",
      " [0.08031602 0.27742856 0.41471596 0.54635581 0.53959118 0.32552491\n",
      "  0.5469929  0.28072248 0.85583341 0.20865325]\n",
      " [0.20777889 0.38760232 0.39581088 0.70158354 0.44772252 0.35621967\n",
      "  0.00200307 0.65369535 0.93456403 0.22712985]\n",
      " [0.78323234 0.06243504 0.92108338 0.3488049  0.27618782 0.36794066\n",
      "  0.08020142 0.75477667 0.66412062 0.65979361]\n",
      " [0.2205282  0.07021136 0.78609665 0.68163825 0.81087067 0.50422584\n",
      "  0.14202899 0.66101256 0.18697814 0.81771941]\n",
      " [0.90084349 0.66986758 0.18304613 0.72947978 0.07493001 0.11165066\n",
      "  0.09381015 0.15345286 0.37418019 0.35880664]\n",
      " [0.7627874  0.20369624 0.36330406 0.96884304 0.70014036 0.60655974\n",
      "  0.34676961 0.64084291 0.74356315 0.41926912]]\n",
      "\n",
      "max value is 0.9998480962705415\n",
      "\n",
      "min value is 0.0020030702121235366\n"
     ]
    }
   ],
   "source": [
    "# 10x10 array of random numbers and result\n",
    "random_array_10 = np.random.rand(10,10)\n",
    "\n",
    "print(random_array_10)\n",
    "\n",
    "# prints min and max random generated number\n",
    "print(\"\\nmax value is\",np.max(random_array_10))\n",
    "\n",
    "print(\"\\nmin value is\",np.min(random_array_10))"
   ]
  },
  {
   "cell_type": "markdown",
   "metadata": {},
   "source": [
    "14. Create a random vector of size 30 and find the mean value \n",
    "    \n",
    "    "
   ]
  },
  {
   "cell_type": "code",
   "execution_count": 20,
   "metadata": {},
   "outputs": [
    {
     "name": "stdout",
     "output_type": "stream",
     "text": [
      "[0.82421224 0.70580617 0.80107379 0.03691118 0.30039325 0.46079249\n",
      " 0.12953655 0.66014818 0.36088679 0.86813877 0.05934723 0.43572113\n",
      " 0.49544336 0.74069737 0.10634164 0.51781306 0.98861544 0.58477368\n",
      " 0.19868623 0.72809833 0.17228044 0.63112825 0.80056208 0.06001381\n",
      " 0.11829353 0.76483987 0.70521921 0.1923012  0.67518834 0.76797108]\n",
      "\n",
      "mean is: 0.49637448972654374\n"
     ]
    }
   ],
   "source": [
    "# Create a random vector of size 30 \n",
    "random_vector = np.random.rand(30)\n",
    "\n",
    "# prints result\n",
    "print(random_vector)\n",
    "\n",
    "# find the mean value \n",
    "mean_random_vector = np.sum(random_vector)/30\n",
    "\n",
    "print(\"\\nmean is:\", mean_random_vector)"
   ]
  },
  {
   "cell_type": "markdown",
   "metadata": {},
   "source": [
    "15. Create a 2d array with 1 on the border and 0 inside\n",
    "\n",
    "16. How to add a border (filled with 0's) around an existing array?\n",
    "\n"
   ]
  },
  {
   "cell_type": "code",
   "execution_count": 29,
   "metadata": {},
   "outputs": [
    {
     "name": "stdout",
     "output_type": "stream",
     "text": [
      "[[1. 1. 1.]\n",
      " [1. 0. 1.]\n",
      " [1. 1. 1.]]\n",
      "\n",
      " Border filled with zeros\n",
      " [[0. 0. 0.]\n",
      " [0. 0. 0.]\n",
      " [0. 0. 0.]]\n"
     ]
    }
   ],
   "source": [
    "import numpy as np\n",
    "\n",
    "# dimensions of the 2D array as 3x3\n",
    "rows, cols = 3, 3\n",
    "\n",
    "# create a 2D array filled with zeros\n",
    "array_2d = np.zeros((rows, cols))\n",
    "\n",
    "# Set the border elements to 1\n",
    "array_2d[0, :] = 1  # Top row\n",
    "array_2d[-1, :] = 1  # Bottom row\n",
    "array_2d[:, 0] = 1  # Leftmost column\n",
    "array_2d[:, -1] = 1  # Rightmost column\n",
    "\n",
    "print(array_2d)\n",
    "\n",
    "# How to add a border (filled with 0's) around an existing array?\n",
    "x = np.zeros((3, 3))\n",
    "\n",
    "# Print result\n",
    "print('\\n Border filled with zeros\\n',x)"
   ]
  },
  {
   "cell_type": "markdown",
   "metadata": {},
   "source": [
    "17. What is the result of the following expression? \n",
    "\n",
    "0 * np.nan  \n",
    "np.nan == np.nan  \n",
    "np.inf > np.nan  \n",
    "np.nan - np.nan  \n",
    "np.nan in set([np.nan])  \n",
    "0.3 == 3 * 0.1  "
   ]
  },
  {
   "cell_type": "code",
   "execution_count": 30,
   "metadata": {},
   "outputs": [
    {
     "data": {
      "text/plain": [
       "False"
      ]
     },
     "execution_count": 30,
     "metadata": {},
     "output_type": "execute_result"
    }
   ],
   "source": [
    "\n",
    "0 * np.nan\n",
    "np.nan == np.nan\n",
    "np.inf > np.nan\n",
    "np.nan - np.nan\n",
    "np.nan in set([np.nan])\n",
    "0.3 == 3 * 0.1"
   ]
  },
  {
   "cell_type": "markdown",
   "metadata": {},
   "source": [
    "18. Create a 5x5 matrix with values 1,2,3,4 just below the diagonal  \n",
    "\n",
    "19. Create a 8x8 matrix and fill it with a checkerboard pattern\n",
    " "
   ]
  },
  {
   "cell_type": "code",
   "execution_count": 36,
   "metadata": {},
   "outputs": [
    {
     "name": "stdout",
     "output_type": "stream",
     "text": [
      "\n",
      "5 by 5 matrix\n",
      " [[0. 0. 0. 0. 0.]\n",
      " [1. 0. 0. 0. 0.]\n",
      " [0. 2. 0. 0. 0.]\n",
      " [0. 0. 3. 0. 0.]\n",
      " [0. 0. 0. 4. 0.]]\n",
      "\n",
      "chekerboard matrix\n",
      " [[1 0 1 0 1 0 1 0]\n",
      " [0 1 0 1 0 1 0 1]\n",
      " [1 0 1 0 1 0 1 0]\n",
      " [0 1 0 1 0 1 0 1]\n",
      " [1 0 1 0 1 0 1 0]\n",
      " [0 1 0 1 0 1 0 1]\n",
      " [1 0 1 0 1 0 1 0]\n",
      " [0 1 0 1 0 1 0 1]]\n"
     ]
    }
   ],
   "source": [
    "import numpy as np\n",
    "\n",
    "# Create a 5x5 matrix filled with zeros\n",
    "matrix = np.zeros((5, 5))\n",
    "\n",
    "# Set the values 1234 just below the diagonal\n",
    "matrix[1, 0] = 1\n",
    "matrix[2, 1] = 2\n",
    "matrix[3, 2] = 3\n",
    "matrix[4, 3] = 4\n",
    "\n",
    "print(\"\\n5 by 5 matrix\\n\",matrix)\n",
    "\n",
    "# Create an 8x8 matrix filled with zeros\n",
    "cmatrix = np.zeros((8, 8), dtype=int)\n",
    "\n",
    "# Set even rows and even columns to 1 using slicing\n",
    "cmatrix[::2, ::2] = 1\n",
    "\n",
    "# Set odd rows and odd columns to 1 using slicing\n",
    "cmatrix[1::2, 1::2] = 1\n",
    "\n",
    "print(\"\\nchekerboard matrix\\n\",cmatrix)\n",
    "\n"
   ]
  },
  {
   "cell_type": "markdown",
   "metadata": {},
   "source": [
    "21. Create a checkerboard 8x8 matrix using the tile function\n",
    "\n",
    "22. Normalize a 5x5 random matrix"
   ]
  },
  {
   "cell_type": "code",
   "execution_count": 43,
   "metadata": {},
   "outputs": [
    {
     "name": "stdout",
     "output_type": "stream",
     "text": [
      "Checkerboard using np.tile\n",
      " [[0 1 0 1 0 1 0 1]\n",
      " [1 0 1 0 1 0 1 0]\n",
      " [0 1 0 1 0 1 0 1]\n",
      " [1 0 1 0 1 0 1 0]\n",
      " [0 1 0 1 0 1 0 1]\n",
      " [1 0 1 0 1 0 1 0]\n",
      " [0 1 0 1 0 1 0 1]\n",
      " [1 0 1 0 1 0 1 0]]\n",
      "\n",
      "Original Matrix:\n",
      "[[0.71760211 0.25036171 0.87660968 0.80843638 0.72115395]\n",
      " [0.48358228 0.86391935 0.70831965 0.46888454 0.27478722]\n",
      " [0.07796253 0.37532628 0.4908535  0.2628712  0.93266127]\n",
      " [0.89221658 0.99464151 0.71642805 0.37089411 0.35969212]\n",
      " [0.86898465 0.66957698 0.65539249 0.34730992 0.7710135 ]]\n",
      "\n",
      "Normalized Matrix:\n",
      "[[0.69777925 0.18806931 0.87123973 0.79686986 0.70165393]\n",
      " [0.44248833 0.85739592 0.68765307 0.42645465 0.21471496]\n",
      " [0.         0.32439246 0.45042046 0.20171584 0.93238609]\n",
      " [0.88826521 1.         0.69649848 0.31955744 0.30733724]\n",
      " [0.86292163 0.64538891 0.62991513 0.29382957 0.75604545]]\n"
     ]
    }
   ],
   "source": [
    "import numpy as np\n",
    "\n",
    "# Create the checkerboard pattern\n",
    "checkerboard = np.array([[0, 1], [1, 0]])\n",
    "\n",
    "# Use np.tile() to create checkerboard pattern of 8x8 matrix\n",
    "checkerboard_8x8 = np.tile(checkerboard, (4, 4))\n",
    "\n",
    "print(\"Checkerboard using np.tile\\n\",checkerboard_8x8)\n",
    "\n",
    "# normalized_value = max_value − min_value / value − min_value\n",
    "\n",
    "# first create a 5x5 random matrix\n",
    "random_matrix = np.random.rand(5, 5)\n",
    "print(\"\\nOriginal Matrix:\")\n",
    "print(random_matrix)\n",
    "\n",
    "# Find the minimum and maximum values of the matrix\n",
    "min_value = np.min(random_matrix)\n",
    "max_value = np.max(random_matrix)\n",
    "\n",
    "# Normalize the matrix \n",
    "normalized_matrix = (random_matrix - min_value) / (max_value - min_value)\n",
    "\n",
    "print(\"\\nNormalized Matrix:\")\n",
    "print(normalized_matrix)"
   ]
  },
  {
   "cell_type": "markdown",
   "metadata": {},
   "source": [
    "23. Create a custom dtype that describes a color as four unsigned bytes (RGBA)\n",
    "\n",
    "24. Multiply a 5x3 matrix by a 3x2 matrix (real matrix product) \n",
    "    \n",
    "25. Given a 1D array, negate all elements which are between 3 and 8, in place. \n",
    "    \n"
   ]
  },
  {
   "cell_type": "code",
   "execution_count": 56,
   "metadata": {},
   "outputs": [
    {
     "name": "stdout",
     "output_type": "stream",
     "text": [
      "[('r', 'u1'), ('g', 'u1'), ('b', 'u1'), ('a', 'u1')]\n",
      "\n",
      "Result of matrix multiplication:\n",
      " [[0.920164   0.86285201]\n",
      " [0.90218843 0.61995207]\n",
      " [0.7999115  1.22904437]\n",
      " [0.55032121 0.47251446]\n",
      " [0.80237414 0.81173615]]\n",
      "\n",
      "Array after negating elements between 3 and 8:\n",
      "[-4 -6 -5 -5 -7]\n"
     ]
    }
   ],
   "source": [
    "color = np.dtype([(\"r\", np.ubyte),(\"g\", np.ubyte),(\"b\", np.ubyte),(\"a\", np.ubyte)])\n",
    "\n",
    "print(color)\n",
    "\n",
    "\n",
    "# Create a 5x3 matrix\n",
    "matrix1 = np.random.rand(5, 3)\n",
    "\n",
    "# Create a 3x2 matrix\n",
    "matrix2 = np.random.rand(3, 2)\n",
    "\n",
    "# Perform matrix multiplication\n",
    "result = np.dot(matrix1, matrix2)\n",
    "\n",
    "print(\"\\nResult of matrix multiplication:\\n\",result)\n",
    "\n",
    "\n",
    "# Create a 1D array\n",
    "array = np.array([3, 4, 6, 5, 5, 7, 8, 9])\n",
    "\n",
    "# Negate elements between 3 and 8\n",
    "x=array[(array > 3) & (array < 8)] * -1\n",
    "\n",
    "print(\"\\nArray after negating elements between 3 and 8:\")\n",
    "print(x)\n",
    "\n"
   ]
  },
  {
   "cell_type": "markdown",
   "metadata": {},
   "source": [
    "27. What is the output of the following script?\n",
    "\n",
    "print(sum(range(5),-1))  \n",
    "from numpy import *  \n",
    "print(sum(range(5),-1))  "
   ]
  },
  {
   "cell_type": "code",
   "execution_count": 57,
   "metadata": {},
   "outputs": [
    {
     "name": "stdout",
     "output_type": "stream",
     "text": [
      "9\n",
      "10\n"
     ]
    }
   ],
   "source": [
    "print(sum(range(5),-1))\n",
    "from numpy import *\n",
    "print(sum(range(5),-1))"
   ]
  },
  {
   "cell_type": "markdown",
   "metadata": {},
   "source": [
    "27. Consider an integer vector Z, which of these expressions are legal?"
   ]
  },
  {
   "cell_type": "code",
   "execution_count": 63,
   "metadata": {},
   "outputs": [
    {
     "name": "stdout",
     "output_type": "stream",
     "text": [
      "4\n",
      "2\n",
      "False\n",
      "2j\n",
      "2.0\n",
      "False\n"
     ]
    }
   ],
   "source": [
    "# assign Z a value\n",
    "Z=2\n",
    "\n",
    "# play around with print, if no error it means all are legal\n",
    "print(Z**Z)\n",
    "print(2 << Z >> 2)\n",
    "print(Z <- Z)\n",
    "print(1j*Z)\n",
    "print(Z/1/1)\n",
    "print(Z<Z>Z)"
   ]
  },
  {
   "cell_type": "markdown",
   "metadata": {},
   "source": [
    "28. What are the result of the following expressions? \n",
    "\n",
    "np.array(0) / np.array(0)  \n",
    "np.array(0) // np.array(0)  \n",
    "np.array([np.nan]).astype(int).astype(float)  "
   ]
  },
  {
   "cell_type": "code",
   "execution_count": 64,
   "metadata": {},
   "outputs": [
    {
     "name": "stderr",
     "output_type": "stream",
     "text": [
      "/var/folders/np/h_r8frds63z84q8kndjycxt40000gn/T/ipykernel_11713/1119427974.py:1: RuntimeWarning: invalid value encountered in divide\n",
      "  np.array(0) / np.array(0)\n",
      "/var/folders/np/h_r8frds63z84q8kndjycxt40000gn/T/ipykernel_11713/1119427974.py:2: RuntimeWarning: divide by zero encountered in floor_divide\n",
      "  np.array(0) // np.array(0)\n",
      "/var/folders/np/h_r8frds63z84q8kndjycxt40000gn/T/ipykernel_11713/1119427974.py:3: RuntimeWarning: invalid value encountered in cast\n",
      "  np.array([np.nan]).astype(int).astype(float)\n"
     ]
    },
    {
     "data": {
      "text/plain": [
       "array([0.])"
      ]
     },
     "execution_count": 64,
     "metadata": {},
     "output_type": "execute_result"
    }
   ],
   "source": [
    "\n",
    "np.array(0) / np.array(0)\n",
    "np.array(0) // np.array(0)\n",
    "np.array([np.nan]).astype(int).astype(float)"
   ]
  },
  {
   "cell_type": "markdown",
   "metadata": {},
   "source": [
    "29.  How to round away from zero a float array ?\n",
    "  \n",
    "30.  How to find common values between two arrays?\n",
    "    \n",
    "31.  How to ignore all numpy warnings (not recommended)? \n",
    "    \n",
    "32.  Is the following expressions true?   \n",
    "        np.sqrt(-1) == np.emath.sqrt(-1)"
   ]
  },
  {
   "cell_type": "code",
   "execution_count": 66,
   "metadata": {},
   "outputs": [
    {
     "name": "stdout",
     "output_type": "stream",
     "text": [
      "To round away from zero a float array, you can use numpy.ceil()\n",
      "\n",
      "To find common values between two arrays, you can use numpy.intersect1d() function\n",
      "\n",
      "To ignore all NumPy warnings use the numpy.seterr() function with the all parameter set to 'ignore\n"
     ]
    },
    {
     "data": {
      "text/plain": [
       "False"
      ]
     },
     "execution_count": 66,
     "metadata": {},
     "output_type": "execute_result"
    }
   ],
   "source": [
    "print(\"To round away from zero a float array, you can use numpy.ceil()\\n\")\n",
    "\n",
    "print(\"To find common values between two arrays, you can use numpy.intersect1d() function\\n\")\n",
    "\n",
    "print(\"To ignore all NumPy warnings use the numpy.seterr() function with the all parameter set to 'ignore\")\n",
    "np.seterr(all='ignore')\n",
    "\n",
    "np.sqrt(-1) == np.emath.sqrt(-1)"
   ]
  },
  {
   "cell_type": "markdown",
   "metadata": {},
   "source": [
    "33.  How to get the dates of yesterday, today and tomorrow? \n",
    "\n",
    "34.  How to get all the dates corresponding to the month of July 2016? \n",
    "\n",
    "35.  How to compute ((A+B)*(-A/2)) in place (without copy)? \n",
    "\n"
   ]
  },
  {
   "cell_type": "code",
   "execution_count": 76,
   "metadata": {},
   "outputs": [
    {
     "name": "stdout",
     "output_type": "stream",
     "text": [
      "yesterday was 2024-02-22\n",
      "today is 2024-02-23\n",
      "tomorrow will be 2024-02-24\n",
      "\n",
      " Dates coresponding to 2016-07 include:\n",
      " ['2016-07-01' '2016-07-02' '2016-07-03' '2016-07-04' '2016-07-05'\n",
      " '2016-07-06' '2016-07-07' '2016-07-08' '2016-07-09' '2016-07-10'\n",
      " '2016-07-11' '2016-07-12' '2016-07-13' '2016-07-14' '2016-07-15'\n",
      " '2016-07-16' '2016-07-17' '2016-07-18' '2016-07-19' '2016-07-20'\n",
      " '2016-07-21' '2016-07-22' '2016-07-23' '2016-07-24' '2016-07-25'\n",
      " '2016-07-26' '2016-07-27' '2016-07-28' '2016-07-29' '2016-07-30'\n",
      " '2016-07-31']\n",
      "\n",
      "Result is [3.5 4.  4.5]\n"
     ]
    }
   ],
   "source": [
    "yesterday = np.datetime64('today') - np.timedelta64(1)\n",
    "today     = np.datetime64('today')\n",
    "tomorrow  = np.datetime64('today') + np.timedelta64(1)\n",
    "\n",
    "print(\"yesterday was\",yesterday)\n",
    "print(\"today is\", today)\n",
    "print(\"tomorrow will be\", tomorrow)\n",
    "\n",
    "# How to get all the dates corresponding to the month of July 2016?\n",
    "newdate = np.arange('2016-07', '2016-08', dtype='datetime64[D]')\n",
    "print(\"\\n Dates coresponding to 2016-07 include:\\n\",newdate)\n",
    "\n",
    "\n",
    "# How to compute ((A+B)*(-A/2)) in place (without copy)?\n",
    "\n",
    "# Define arrays A and B\n",
    "A = np.array([1, 2, 3])\n",
    "B = np.array([4, 5, 6])\n",
    "\n",
    "A = A*(-0.5)\n",
    "A = A + B \n",
    "result = A\n",
    "\n",
    "print(\"\\nResult is\",result)\n"
   ]
  },
  {
   "cell_type": "markdown",
   "metadata": {},
   "source": [
    "36.  Extract the integer part of a random array of positive numbers using 4 different methods \n",
    "\n",
    "37.  Create a 5x5 matrix with row values ranging from 0 to 4"
   ]
  },
  {
   "cell_type": "code",
   "execution_count": 79,
   "metadata": {},
   "outputs": [
    {
     "name": "stdout",
     "output_type": "stream",
     "text": [
      "\n",
      "Integer part using np.floor():\n",
      "[[4. 2. 3. 4. 2.]\n",
      " [1. 2. 4. 4. 4.]\n",
      " [2. 0. 3. 3. 4.]\n",
      " [2. 4. 4. 3. 4.]\n",
      " [2. 2. 2. 1. 5.]]\n",
      "\n",
      "5x5 matrix with row values ranging from 0 to 4:\n",
      "[[0 1 2 3 4]\n",
      " [0 1 2 3 4]\n",
      " [0 1 2 3 4]\n",
      " [0 1 2 3 4]\n",
      " [0 1 2 3 4]]\n"
     ]
    }
   ],
   "source": [
    "# Create a random array \n",
    "random_array = np.random.rand(5, 5) * 6\n",
    "\n",
    "# using np.floor()\n",
    "integer_part = np.floor(random_array)\n",
    "\n",
    "print(\"\\nInteger part using np.floor():\")\n",
    "print(integer_part)\n",
    "\n",
    "\n",
    "# Create a 5x5 matrix with row values ranging from 0 to 4\n",
    "matrix = np.tile(np.arange(5), (5, 1))\n",
    "\n",
    "print(\"\\n5x5 matrix with row values ranging from 0 to 4:\")\n",
    "print(matrix)"
   ]
  },
  {
   "cell_type": "markdown",
   "metadata": {},
   "source": [
    "38.  Consider a generator function that generates 10 integers and use it to build an array \n",
    "\n",
    "39.  Create a vector of size 10 with values ranging from 0 to 1, both excluded  "
   ]
  },
  {
   "cell_type": "code",
   "execution_count": 81,
   "metadata": {},
   "outputs": [
    {
     "name": "stdout",
     "output_type": "stream",
     "text": [
      "Array from the generator function:\n",
      " [0 1 2 3 4 5 6 7 8 9]\n",
      "\n",
      "Vector of size 10 with values ranging from 0 to 1, both excluded:\n",
      " [0.09090909 0.18181818 0.27272727 0.36363636 0.45454545 0.54545455\n",
      " 0.63636364 0.72727273 0.81818182 0.90909091]\n"
     ]
    }
   ],
   "source": [
    "# Generator function to generate 10 integers\n",
    "def generate_integers():\n",
    "    for i in range(10):\n",
    "        yield i\n",
    "\n",
    "# build an array using the generator function\n",
    "array_from_generator = np.fromiter(generate_integers(), dtype=int)\n",
    "\n",
    "print(\"Array from the generator function:\\n\",array_from_generator)\n",
    "\n",
    "# Create a vector of size 10 with values ranging from 0 to 1, both excluded\n",
    "vector = np.linspace(0, 1, 12)[1:-1]\n",
    "\n",
    "print(\"\\nVector of size 10 with values ranging from 0 to 1, both excluded:\\n\",vector)\n"
   ]
  },
  {
   "cell_type": "markdown",
   "metadata": {},
   "source": [
    "40.  Create a random vector of size 10 and sort it \n",
    "   \n",
    "41.  How to sum a small array faster than np.sum?"
   ]
  },
  {
   "cell_type": "code",
   "execution_count": 86,
   "metadata": {},
   "outputs": [
    {
     "name": "stdout",
     "output_type": "stream",
     "text": [
      "Random vector of size 10:\n",
      "[0.78956416 0.41640442 0.53832558 0.94560995 0.47416288 0.71184284\n",
      " 0.68450692 0.87439876 0.80610976 0.12787425]\n",
      "\n",
      "Sorted vector:\n",
      "[0.12787425 0.41640442 0.47416288 0.53832558 0.68450692 0.71184284\n",
      " 0.78956416 0.80610976 0.87439876 0.94560995] \n",
      "\n",
      "Sum using np.add.reduce() =  15\n"
     ]
    }
   ],
   "source": [
    "random_vector = np.random.rand(10)\n",
    "sorted_vector = np.sort(random_vector)\n",
    "\n",
    "print(\"Random vector of size 10:\")\n",
    "print(random_vector)\n",
    "print(\"\\nSorted vector:\")\n",
    "print(sorted_vector,\"\\n\")\n",
    "\n",
    "\n",
    "# How to sum a small array faster than np.sum?\n",
    "small_array = np.array([1, 2, 3, 4, 5])\n",
    "\n",
    "# Using np.add.reduce()\n",
    "sum_using_np_add_reduce = np.add.reduce(small_array)\n",
    "\n",
    "print(\"Sum using np.add.reduce() = \", sum_using_np_add_reduce)"
   ]
  },
  {
   "cell_type": "markdown",
   "metadata": {},
   "source": [
    "42.  Consider two random array A and B, check if they are equal \n",
    "   \n",
    "43.  Make an array immutable (read-only)"
   ]
  },
  {
   "cell_type": "code",
   "execution_count": 87,
   "metadata": {},
   "outputs": [
    {
     "name": "stdout",
     "output_type": "stream",
     "text": [
      "Array A: [0.58149535 0.1028402  0.89301237 0.96140211 0.24462165]\n",
      "Array B: [0.79225117 0.3126141  0.26358707 0.85763386 0.9979705 ]\n",
      "\n",
      "Arrays A and B are not equal.\n"
     ]
    },
    {
     "ename": "ValueError",
     "evalue": "assignment destination is read-only",
     "output_type": "error",
     "traceback": [
      "\u001b[0;31m---------------------------------------------------------------------------\u001b[0m",
      "\u001b[0;31mValueError\u001b[0m                                Traceback (most recent call last)",
      "Cell \u001b[0;32mIn[87], line 16\u001b[0m\n\u001b[1;32m     14\u001b[0m readonly \u001b[39m=\u001b[39m np\u001b[39m.\u001b[39mzeros(\u001b[39m10\u001b[39m)\n\u001b[1;32m     15\u001b[0m readonly\u001b[39m.\u001b[39mflags\u001b[39m.\u001b[39mwriteable \u001b[39m=\u001b[39m \u001b[39mFalse\u001b[39;00m\n\u001b[0;32m---> 16\u001b[0m readonly[\u001b[39m0\u001b[39;49m] \u001b[39m=\u001b[39m \u001b[39m1\u001b[39m\n",
      "\u001b[0;31mValueError\u001b[0m: assignment destination is read-only"
     ]
    }
   ],
   "source": [
    "A = np.random.rand(5)\n",
    "B = np.random.rand(5)\n",
    "\n",
    "print(\"Array A:\", A)\n",
    "print(\"Array B:\", B)\n",
    "\n",
    "if np.array_equal(A, B):\n",
    "    print(\"\\nArrays A and B are equal.\")\n",
    "else:\n",
    "    print(\"\\nArrays A and B are not equal.\")\n",
    "    \n",
    "\n",
    "# Make an array immutable (read-only)\n",
    "readonly = np.zeros(10)\n",
    "readonly.flags.writeable = False\n",
    "readonly[0] = 1"
   ]
  },
  {
   "cell_type": "markdown",
   "metadata": {},
   "source": [
    "44.  Consider a random 10x2 matrix representing cartesian coordinates, convert them to polar coordinates \n"
   ]
  },
  {
   "cell_type": "code",
   "execution_count": 90,
   "metadata": {},
   "outputs": [
    {
     "name": "stdout",
     "output_type": "stream",
     "text": [
      "radius =  [0.47896739 0.6346416  0.88997083 0.32945725 0.76752407 0.87209972\n",
      " 1.06884634 0.61137759 0.54959451 0.49353374]\n",
      "\n",
      "teeta =  [1.14410173 1.49113692 0.20164947 0.72651775 0.2568239  0.32999836\n",
      " 0.87747939 1.55990863 1.02500005 0.21081745]\n"
     ]
    }
   ],
   "source": [
    "randmatrix = np.random.random((10,2))\n",
    "X,Y = randmatrix[:,0], randmatrix[:,1]\n",
    "radius = np.sqrt(X**2+Y**2)\n",
    "teeta = np.arctan2(Y,X)\n",
    "print(\"radius = \",radius)\n",
    "print(\"\\nteeta = \",teeta)"
   ]
  },
  {
   "cell_type": "markdown",
   "metadata": {},
   "source": [
    "45. Create random vector of size 10 and replace the maximum value by 0  "
   ]
  },
  {
   "cell_type": "code",
   "execution_count": 91,
   "metadata": {},
   "outputs": [
    {
     "name": "stdout",
     "output_type": "stream",
     "text": [
      "Random vector:\n",
      " [0.26900871 0.41640597 0.13578997 0.02329087 0.80549615 0.29080546\n",
      " 0.13197572 0.10046415 0.59399745 0.26296215]\n",
      "\n",
      "Random vector after replacing the maximum value with 0:\n",
      "[0.26900871 0.41640597 0.13578997 0.02329087 0.         0.29080546\n",
      " 0.13197572 0.10046415 0.59399745 0.26296215]\n"
     ]
    }
   ],
   "source": [
    "# Create a random vector of size 10\n",
    "random_vector = np.random.rand(10)\n",
    "print(\"Random vector:\\n\",random_vector)\n",
    "\n",
    "# Find the index of the maximum value\n",
    "max_index = np.argmax(random_vector)\n",
    "\n",
    "# Replace the maximum value with 0\n",
    "random_vector[max_index] = 0\n",
    "\n",
    "print(\"\\nRandom vector after replacing the maximum value with 0:\")\n",
    "print(random_vector)\n"
   ]
  },
  {
   "cell_type": "markdown",
   "metadata": {},
   "source": [
    "46. Create a structured array with x and y coordinates covering the [0,1]x[0,1] area "
   ]
  },
  {
   "cell_type": "code",
   "execution_count": 92,
   "metadata": {},
   "outputs": [
    {
     "name": "stdout",
     "output_type": "stream",
     "text": [
      "[[(0.  , 0.  ) (0.25, 0.  ) (0.5 , 0.  ) (0.75, 0.  ) (1.  , 0.  )]\n",
      " [(0.  , 0.25) (0.25, 0.25) (0.5 , 0.25) (0.75, 0.25) (1.  , 0.25)]\n",
      " [(0.  , 0.5 ) (0.25, 0.5 ) (0.5 , 0.5 ) (0.75, 0.5 ) (1.  , 0.5 )]\n",
      " [(0.  , 0.75) (0.25, 0.75) (0.5 , 0.75) (0.75, 0.75) (1.  , 0.75)]\n",
      " [(0.  , 1.  ) (0.25, 1.  ) (0.5 , 1.  ) (0.75, 1.  ) (1.  , 1.  )]]\n"
     ]
    }
   ],
   "source": [
    "str_array = np.zeros((5,5), [('x',float),('y',float)])\n",
    "str_array['x'], str_array['y'] = np.meshgrid(np.linspace(0,1,5),np.linspace(0,1,5))\n",
    "\n",
    "# print result\n",
    "print(str_array)"
   ]
  },
  {
   "cell_type": "markdown",
   "metadata": {},
   "source": [
    "47. Given two arrays, X and Y, construct the Cauchy matrix C (Cij =1/(xi - yj)"
   ]
  },
  {
   "cell_type": "code",
   "execution_count": 93,
   "metadata": {},
   "outputs": [
    {
     "name": "stdout",
     "output_type": "stream",
     "text": [
      "Cauchy matrix:\n",
      "[[-0.33333333 -0.25       -0.2       ]\n",
      " [-0.5        -0.33333333 -0.25      ]\n",
      " [-1.         -0.5        -0.33333333]]\n"
     ]
    }
   ],
   "source": [
    "X = np.array([1, 2, 3])\n",
    "Y = np.array([4, 5, 6])\n",
    "\n",
    "# Construct the Cauchy matrix using broadcasting\n",
    "C = 1 / (X[:, np.newaxis] - Y)\n",
    "\n",
    "print(\"Cauchy matrix:\")\n",
    "print(C)\n"
   ]
  },
  {
   "cell_type": "markdown",
   "metadata": {},
   "source": [
    "48.  Print the minimum and maximum representable value for each numpy scalar type \n",
    "\n",
    "49.  How to print all the values of an array?"
   ]
  },
  {
   "cell_type": "code",
   "execution_count": 95,
   "metadata": {},
   "outputs": [
    {
     "name": "stdout",
     "output_type": "stream",
     "text": [
      "-128\n",
      "127\n",
      "-2147483648\n",
      "2147483647\n",
      "-9223372036854775808\n",
      "9223372036854775807\n",
      "-3.4028235e+38\n",
      "3.4028235e+38\n",
      "1.1920929e-07\n",
      "-1.7976931348623157e+308\n",
      "1.7976931348623157e+308\n",
      "2.220446049250313e-16\n",
      "\n",
      "use np.set_printoptions() to print all values in array\n"
     ]
    }
   ],
   "source": [
    "for dtype in [np.int8, np.int32, np.int64]:\n",
    "   print(np.iinfo(dtype).min)\n",
    "   print(np.iinfo(dtype).max)\n",
    "   \n",
    "for dtype in [np.float32, np.float64]:\n",
    "   print(np.finfo(dtype).min)\n",
    "   print(np.finfo(dtype).max)\n",
    "   print(np.finfo(dtype).eps)\n",
    "print(\"\\nuse np.set_printoptions() to print all values in array\")"
   ]
  },
  {
   "cell_type": "markdown",
   "metadata": {},
   "source": [
    "50. How to find the closest value (to a given scalar) in a vector? "
   ]
  },
  {
   "cell_type": "code",
   "execution_count": 97,
   "metadata": {},
   "outputs": [
    {
     "name": "stdout",
     "output_type": "stream",
     "text": [
      "8\n"
     ]
    }
   ],
   "source": [
    "closest_value = np.arange(10)\n",
    "v = np.random.uniform(0,10)\n",
    "index = (np.abs(closest_value-v)).argmin()\n",
    "\n",
    "# print result\n",
    "print(closest_value[index])"
   ]
  },
  {
   "cell_type": "markdown",
   "metadata": {},
   "source": [
    "51.  Create a structured array representing a position (x,y) and a color (r,g,b) \n"
   ]
  },
  {
   "cell_type": "code",
   "execution_count": 5,
   "metadata": {},
   "outputs": [
    {
     "name": "stdout",
     "output_type": "stream",
     "text": [
      "[((10., 20.), (255, 0, 0))]\n"
     ]
    }
   ],
   "source": [
    "import numpy as np\n",
    "\n",
    "# Define the dtype for the structured array\n",
    "dtype = [('position', [('x', float), ('y', float)]), \n",
    "         ('color', [('r', int), ('g', int), ('b', int)])]\n",
    "\n",
    "# Create a structured array\n",
    "struc_array = np.zeros(1, dtype=dtype)\n",
    "\n",
    "# Assign values to the structured array. position (x, y) & color (r, g, b)\n",
    "struc_array['position'] = (10.0, 20.0) \n",
    "struc_array['color'] = (255, 0, 0)      \n",
    "\n",
    "print(struc_array)"
   ]
  },
  {
   "cell_type": "markdown",
   "metadata": {},
   "source": [
    "52.  Consider a random vector with shape (100,2) representing coordinates, find point by point distances "
   ]
  },
  {
   "cell_type": "code",
   "execution_count": 8,
   "metadata": {},
   "outputs": [
    {
     "name": "stdout",
     "output_type": "stream",
     "text": [
      "[[0.         0.76306973 0.35355583 ... 0.50399899 0.6258     0.69183636]\n",
      " [0.76306973 0.         0.45872408 ... 0.85603963 0.89764081 0.08301941]\n",
      " [0.35355583 0.45872408 0.         ... 0.687452   0.78407495 0.3778301 ]\n",
      " ...\n",
      " [0.50399899 0.85603963 0.687452   ... 0.         0.12406623 0.82433168]\n",
      " [0.6258     0.89764081 0.78407495 ... 0.12406623 0.         0.87640111]\n",
      " [0.69183636 0.08301941 0.3778301  ... 0.82433168 0.87640111 0.        ]]\n"
     ]
    }
   ],
   "source": [
    "import numpy as np\n",
    "\n",
    "random_vector = np.random.random((100, 2))\n",
    "\n",
    "# Calculate point-by-point distances\n",
    "distances = np.zeros((100, 100))  \n",
    "\n",
    "for i in range(100):\n",
    "    for j in range(100):\n",
    "        distances[i, j] = np.sqrt(np.sum((random_vector[i] - random_vector[j])**2))\n",
    "\n",
    "\n",
    "print(distances)\n"
   ]
  },
  {
   "cell_type": "markdown",
   "metadata": {},
   "source": [
    "53. How to convert a float (32 bits) array into an integer (32 bits) in place?\n",
    "    \n",
    "54. How to read the following file?   \n",
    "1, 2, 3, 4, 5  \n",
    "6,  ,  , 7, 8  \n",
    " ,  , 9,10,11  "
   ]
  },
  {
   "cell_type": "code",
   "execution_count": 11,
   "metadata": {},
   "outputs": [
    {
     "name": "stdout",
     "output_type": "stream",
     "text": [
      "Integer array: [1066192077 1074580685 1079194419 1082969293]\n"
     ]
    }
   ],
   "source": [
    "# Create a float array (32 bits)\n",
    "float_array = np.array([1.1, 2.2, 3.3, 4.4], dtype=np.float32)\n",
    "\n",
    "# Convert the float array to an integer array (32 bits) in place\n",
    "integer_array = float_array.view(dtype=np.int32)\n",
    "\n",
    "print(\"Integer array:\", integer_array)\n",
    "\n",
    "#Q54 \n",
    "# Read the file using the code below\n",
    "\n",
    "# data = np.genfromtxt('file_path.csv', delimiter=',', dtype=np.float, filling_values=np.nan)\n",
    "\n",
    "\n"
   ]
  },
  {
   "cell_type": "markdown",
   "metadata": {},
   "source": [
    "55. What is the equivalent of enumerate for numpy arrays?    \n",
    "    \n",
    "    **The equivalent of enumerate for NumPy arrays is the np.ndenumerate function.**"
   ]
  },
  {
   "cell_type": "markdown",
   "metadata": {},
   "source": [
    "56. Generate a generic 2D Gaussian-like array"
   ]
  },
  {
   "cell_type": "code",
   "execution_count": 18,
   "metadata": {},
   "outputs": [
    {
     "name": "stdout",
     "output_type": "stream",
     "text": [
      "[[1.23409804e-04 3.60656314e-03 1.11089965e-02 3.60656314e-03\n",
      "  1.23409804e-04]\n",
      " [3.60656314e-03 1.05399225e-01 3.24652467e-01 1.05399225e-01\n",
      "  3.60656314e-03]\n",
      " [1.11089965e-02 3.24652467e-01 1.00000000e+00 3.24652467e-01\n",
      "  1.11089965e-02]\n",
      " [3.60656314e-03 1.05399225e-01 3.24652467e-01 1.05399225e-01\n",
      "  3.60656314e-03]\n",
      " [1.23409804e-04 3.60656314e-03 1.11089965e-02 3.60656314e-03\n",
      "  1.23409804e-04]]\n"
     ]
    }
   ],
   "source": [
    "import numpy as np\n",
    "\n",
    "size = 5\n",
    "sigma = 1.0\n",
    "\n",
    "# Create grid of coordinates\n",
    "x, y = np.meshgrid(np.linspace(-3, 3, size), np.linspace(-3, 3, size))\n",
    "\n",
    "# Compute Gaussian values\n",
    "gaussian = np.exp(-(x**2 + y**2) / (2 * sigma**2))\n",
    "\n",
    "print(gaussian)\n"
   ]
  },
  {
   "cell_type": "markdown",
   "metadata": {},
   "source": [
    "57. How to randomly place p elements in a 2D array?"
   ]
  },
  {
   "cell_type": "code",
   "execution_count": 24,
   "metadata": {},
   "outputs": [
    {
     "name": "stdout",
     "output_type": "stream",
     "text": [
      "[[0. 0. 0. 0. 0.]\n",
      " [0. 0. 0. 1. 0.]\n",
      " [0. 0. 0. 1. 0.]\n",
      " [0. 0. 0. 1. 0.]\n",
      " [0. 0. 0. 0. 0.]]\n"
     ]
    }
   ],
   "source": [
    "n = 5\n",
    "p = 3\n",
    "\n",
    "elements = np.zeros((n,n))\n",
    "np.put(elements, np.random.choice(range(n*n), p, replace=False),1)\n",
    "\n",
    "print(elements)"
   ]
  },
  {
   "cell_type": "markdown",
   "metadata": {},
   "source": [
    "58. Subtract the mean of each row of a matrix"
   ]
  },
  {
   "cell_type": "code",
   "execution_count": 26,
   "metadata": {},
   "outputs": [
    {
     "name": "stdout",
     "output_type": "stream",
     "text": [
      "\n",
      "Result matrix after subtracting the mean of each row:\n",
      " [[-1.  0.  1.]\n",
      " [-1.  0.  1.]\n",
      " [-1.  0.  1.]]\n"
     ]
    }
   ],
   "source": [
    "import numpy as np\n",
    "\n",
    "matrix = np.array([[1, 2, 3],\n",
    "                   [4, 5, 6],\n",
    "                   [7, 8, 9]])\n",
    "\n",
    "# Calculate the mean of each row\n",
    "row_means = np.mean(matrix, axis=1, keepdims=True)\n",
    "\n",
    "# Subtract the mean of each row \n",
    "result_matrix = matrix - row_means\n",
    "\n",
    "print(\"\\nResult matrix after subtracting the mean of each row:\\n\",result_matrix)\n"
   ]
  },
  {
   "cell_type": "markdown",
   "metadata": {},
   "source": [
    "59. How to sort an array by the nth column?"
   ]
  },
  {
   "cell_type": "code",
   "execution_count": 31,
   "metadata": {},
   "outputs": [
    {
     "name": "stdout",
     "output_type": "stream",
     "text": [
      "[[2 4 1]\n",
      " [4 6 0]\n",
      " [9 2 7]]\n",
      "\n",
      "Sorted array:\n",
      "[[9 2 7]\n",
      " [2 4 1]\n",
      " [4 6 0]]\n"
     ]
    }
   ],
   "source": [
    "srtarray = np.random.randint(0,10,(3,3))\n",
    "\n",
    "print(srtarray)\n",
    "\n",
    "# print sorted array\n",
    "print(\"\\nSorted array:\")\n",
    "print(srtarray[srtarray[:,1].argsort()])"
   ]
  },
  {
   "cell_type": "markdown",
   "metadata": {},
   "source": [
    "60. How to tell if a given 2D array has null columns?"
   ]
  },
  {
   "cell_type": "code",
   "execution_count": 36,
   "metadata": {},
   "outputs": [
    {
     "name": "stdout",
     "output_type": "stream",
     "text": [
      "Does the array have null columns? True\n"
     ]
    }
   ],
   "source": [
    "import numpy as np\n",
    "\n",
    "array = np.array([[1, 2, 0],\n",
    "                  [4, 5, 0],\n",
    "                  [7, 8, 0]])\n",
    "\n",
    "# Check if any column contains only zeros\n",
    "has_null_columns = np.any(np.all(array == 0, axis=0))\n",
    "\n",
    "print(\"Does the array have null columns?\", has_null_columns)\n"
   ]
  },
  {
   "cell_type": "markdown",
   "metadata": {},
   "source": [
    "61. Find the nearest value from a given value in an array "
   ]
  },
  {
   "cell_type": "code",
   "execution_count": 87,
   "metadata": {},
   "outputs": [
    {
     "name": "stdout",
     "output_type": "stream",
     "text": [
      "Nearest value to 6 in the array is: 5\n"
     ]
    }
   ],
   "source": [
    "\n",
    "def find_nearest(array, value):\n",
    "    idx = (np.abs(array - value)).argmin()\n",
    "    return array[idx]\n",
    "\n",
    "# sample array\n",
    "array = np.array([1, 3, 5, 7, 9])\n",
    "\n",
    "# Given value\n",
    "given_value = 6\n",
    "\n",
    "# Find the nearest value\n",
    "nearest_value = find_nearest(array, given_value)\n",
    "\n",
    "print(\"Nearest value to\", given_value, \"in the array is:\", nearest_value)\n"
   ]
  },
  {
   "cell_type": "markdown",
   "metadata": {},
   "source": [
    "62. Considering two arrays with shape (1,3) and (3,1), how to compute their sum using an iterator?"
   ]
  },
  {
   "cell_type": "code",
   "execution_count": 78,
   "metadata": {},
   "outputs": [
    {
     "name": "stdout",
     "output_type": "stream",
     "text": [
      "Sum of the two arrays: 21\n"
     ]
    }
   ],
   "source": [
    "\n",
    "array1 = np.array([[1, 2, 3]])\n",
    "array2 = np.array([[4], [5], [6]])\n",
    "\n",
    "# Initialize a variable to store the sum\n",
    "result = 0\n",
    "\n",
    "# Iterate over the elements of both arrays and compute the sum\n",
    "for x, y in zip(array1.flat, array2.flat):\n",
    "    result += x + y\n",
    "\n",
    "print(\"Sum of the two arrays:\", result)\n"
   ]
  },
  {
   "cell_type": "markdown",
   "metadata": {},
   "source": [
    "63. Create an array class that has a name attribute "
   ]
  },
  {
   "cell_type": "code",
   "execution_count": 74,
   "metadata": {},
   "outputs": [
    {
     "name": "stdout",
     "output_type": "stream",
     "text": [
      "[1 2 3 4 5]\n",
      "Name: example_array\n"
     ]
    }
   ],
   "source": [
    "import numpy as np\n",
    "\n",
    "class NamedArray(np.ndarray):\n",
    "    def __new__(cls, input_array, name=None):\n",
    "        obj = np.asarray(input_array).view(cls)\n",
    "        obj.name = name\n",
    "        return obj\n",
    "\n",
    "    def __array_finalize__(self, obj):\n",
    "        if obj is None:\n",
    "            return\n",
    "        self.name = getattr(obj, 'name', None)\n",
    "\n",
    "# Example usage:\n",
    "data = np.array([1, 2, 3, 4, 5])\n",
    "named_array = NamedArray(data, name='example_array')\n",
    "\n",
    "print(named_array)\n",
    "print(\"Name:\", named_array.name)\n"
   ]
  },
  {
   "cell_type": "markdown",
   "metadata": {},
   "source": [
    "64. Consider a given vector, how to add 1 to each element indexed by a second vector (be careful with repeated indices)?"
   ]
  },
  {
   "cell_type": "code",
   "execution_count": 73,
   "metadata": {},
   "outputs": [
    {
     "name": "stdout",
     "output_type": "stream",
     "text": [
      "output:\n",
      " [3. 4. 4. 2. 2.]\n"
     ]
    }
   ],
   "source": [
    "Z = np.ones(5)\n",
    "I = np.random.randint(0,len(Z),10)\n",
    "\n",
    "Z += np.bincount(I, minlength=len(Z))\n",
    "\n",
    "print(\"output:\\n\",Z)"
   ]
  },
  {
   "cell_type": "markdown",
   "metadata": {},
   "source": [
    "65. How to accumulate elements of a vector (X) to an array (F) based on an index list (I)?"
   ]
  },
  {
   "cell_type": "code",
   "execution_count": 71,
   "metadata": {},
   "outputs": [
    {
     "name": "stdout",
     "output_type": "stream",
     "text": [
      "[0. 4. 3. 2. 1.]\n"
     ]
    }
   ],
   "source": [
    "X = [1,2,3,4]\n",
    "I = [4,3,2,1]\n",
    "F = np.bincount(I,X)\n",
    "\n",
    "print(F)"
   ]
  },
  {
   "cell_type": "markdown",
   "metadata": {},
   "source": [
    "66. Considering a (w,h,3) image of (dtype=ubyte), compute the number of unique colors "
   ]
  },
  {
   "cell_type": "code",
   "execution_count": null,
   "metadata": {},
   "outputs": [],
   "source": []
  },
  {
   "cell_type": "markdown",
   "metadata": {},
   "source": [
    "67. Considering a four dimensions array, how to get sum over the last two axis at once?"
   ]
  },
  {
   "cell_type": "code",
   "execution_count": 69,
   "metadata": {},
   "outputs": [
    {
     "name": "stdout",
     "output_type": "stream",
     "text": [
      "Sum over the last two axes:\n",
      " [[92 89 99]\n",
      " [98 81 85]]\n"
     ]
    }
   ],
   "source": [
    "array = np.random.randint(0, 10, size=(2, 3, 4, 5))  \n",
    "\n",
    "# Get the sum over the last two axes at once\n",
    "sum_last_two_axes = np.sum(array, axis=(-2, -1))\n",
    "\n",
    "print(\"Sum over the last two axes:\\n\",sum_last_two_axes)"
   ]
  },
  {
   "cell_type": "markdown",
   "metadata": {},
   "source": [
    "68. Considering a one-dimensional vector D, how to compute means of subsets of D using a vector S of same size describing subset indices?"
   ]
  },
  {
   "cell_type": "code",
   "execution_count": 68,
   "metadata": {},
   "outputs": [
    {
     "name": "stdout",
     "output_type": "stream",
     "text": [
      "[0.44928529 0.45835385 0.55349861 0.457115   0.48440526 0.64201935\n",
      " 0.45267016 0.40744889 0.6432556  0.4772709 ]\n"
     ]
    }
   ],
   "source": [
    "D = np.random.uniform(0,1,100)\n",
    "S = np.random.randint(0,10,100)\n",
    "\n",
    "D_sums = np.bincount(S, weights=D)\n",
    "D_counts = np.bincount(S)\n",
    "D_means = D_sums / D_counts\n",
    "\n",
    "print(D_means)"
   ]
  },
  {
   "cell_type": "markdown",
   "metadata": {},
   "source": [
    "69. How to get the diagonal of a dot product?"
   ]
  },
  {
   "cell_type": "code",
   "execution_count": 65,
   "metadata": {},
   "outputs": [
    {
     "name": "stdout",
     "output_type": "stream",
     "text": [
      "Diagonal of the dot product:\n",
      "[30 69 90]\n"
     ]
    }
   ],
   "source": [
    "A = np.array([[1, 2, 3],\n",
    "              [4, 5, 6],\n",
    "              [7, 8, 9]])\n",
    "\n",
    "B = np.array([[9, 8, 7],\n",
    "              [6, 5, 4],\n",
    "              [3, 2, 1]])\n",
    "\n",
    "dot_product = np.dot(A, B)\n",
    "\n",
    "# Get the diagonal elements of the dot product\n",
    "diagonal = np.diag(dot_product)\n",
    "\n",
    "print(\"Diagonal of the dot product:\")\n",
    "print(diagonal)\n"
   ]
  },
  {
   "cell_type": "markdown",
   "metadata": {},
   "source": [
    "70. Consider the vector [1, 2, 3, 4, 5], how to build a new vector with 3 consecutive zeros interleaved between each value?"
   ]
  },
  {
   "cell_type": "code",
   "execution_count": 64,
   "metadata": {},
   "outputs": [
    {
     "name": "stdout",
     "output_type": "stream",
     "text": [
      "New vector with interleaved zeros:\n",
      "[1. 0. 0. 0. 2. 0. 0. 0. 3. 0. 0. 0. 4. 0. 0. 0. 5.]\n"
     ]
    }
   ],
   "source": [
    "exvector = np.array([1, 2, 3, 4, 5])\n",
    "\n",
    "num_zeros = 3\n",
    "\n",
    "# Build the new vector with interleaved zeros\n",
    "new_vector = np.zeros(len(exvector) + (len(exvector) - 1) * num_zeros)\n",
    "new_vector[::num_zeros+1] = exvector\n",
    "\n",
    "print(\"New vector with interleaved zeros:\")\n",
    "print(new_vector)\n"
   ]
  },
  {
   "cell_type": "markdown",
   "metadata": {},
   "source": [
    "71. Consider an array of dimension (5,5,3), how to mulitply it by an array with dimensions (5,5)?"
   ]
  },
  {
   "cell_type": "code",
   "execution_count": 88,
   "metadata": {},
   "outputs": [
    {
     "name": "stdout",
     "output_type": "stream",
     "text": [
      "Resulting array shape: (5, 5, 3)\n"
     ]
    }
   ],
   "source": [
    "array1 = np.random.randint(1, 10, size=(5, 5, 3))\n",
    "array2 = np.random.randint(1, 10, size=(5, 5))\n",
    "\n",
    "# Multiply the arrays\n",
    "result = array1 * array2[:, :, None]\n",
    "\n",
    "print(\"Resulting array shape:\", result.shape)"
   ]
  },
  {
   "cell_type": "markdown",
   "metadata": {},
   "source": [
    "72. How to swap two rows of an array?"
   ]
  },
  {
   "cell_type": "code",
   "execution_count": 89,
   "metadata": {},
   "outputs": [
    {
     "name": "stdout",
     "output_type": "stream",
     "text": [
      "Array after swapping rows:\n",
      "[[1 2 3]\n",
      " [7 8 9]\n",
      " [4 5 6]]\n"
     ]
    }
   ],
   "source": [
    "# Create an example array\n",
    "array = np.array([[1, 2, 3],\n",
    "                  [4, 5, 6],\n",
    "                  [7, 8, 9]])\n",
    "\n",
    "# Swap rows 1 and 2 \n",
    "array[1], array[2] = array[2], array[1].copy()\n",
    "\n",
    "print(\"Array after swapping rows:\")\n",
    "print(array)\n"
   ]
  },
  {
   "cell_type": "markdown",
   "metadata": {},
   "source": [
    "73. Consider a set of 10 triplets describing 10 triangles (with shared vertices), find the set of unique line segments composing all the triangles "
   ]
  },
  {
   "cell_type": "code",
   "execution_count": 102,
   "metadata": {},
   "outputs": [
    {
     "name": "stdout",
     "output_type": "stream",
     "text": [
      "[[0 0]\n",
      " [0 1]\n",
      " [1 1]\n",
      " [1 2]\n",
      " [2 2]]\n"
     ]
    }
   ],
   "source": [
    "triangles = np.array([\n",
    "    [[0, 0], [1, 0], [0, 1]],\n",
    "    [[1, 0], [1, 1], [0, 1]],\n",
    "    [[1, 1], [2, 1], [2, 2]],\n",
    "])\n",
    "\n",
    "vertices = triangles.reshape(-1, 2)\n",
    "\n",
    "# Sort vertices to identify unique line segments\n",
    "sorted_vertices = np.sort(vertices, axis=1)\n",
    "unique_segments = np.unique(sorted_vertices, axis=0)\n",
    "\n",
    "print(unique_segments)"
   ]
  },
  {
   "cell_type": "markdown",
   "metadata": {},
   "source": [
    "74. Given a sorted array C that corresponds to a bincount, how to produce an array A such that np.bincount(A) == C? "
   ]
  },
  {
   "cell_type": "code",
   "execution_count": 101,
   "metadata": {},
   "outputs": [
    {
     "name": "stdout",
     "output_type": "stream",
     "text": [
      "[1 2 2 3 3 3 5 6 6 7 7 7 8 8 8 8]\n"
     ]
    }
   ],
   "source": [
    "C = np.array([0, 1, 2, 3, 0, 1, 2, 3, 4])\n",
    "\n",
    "# Calculate the array A\n",
    "A = np.repeat(np.arange(len(C)), C)\n",
    "\n",
    "print(A)"
   ]
  },
  {
   "cell_type": "markdown",
   "metadata": {},
   "source": [
    "75. How to compute averages using a sliding window over an array?"
   ]
  },
  {
   "cell_type": "code",
   "execution_count": 99,
   "metadata": {},
   "outputs": [
    {
     "name": "stdout",
     "output_type": "stream",
     "text": [
      "Sliding window averages: [2. 3. 4. 5. 6. 7. 8. 9.]\n"
     ]
    }
   ],
   "source": [
    "arr = np.array([1, 2, 3, 4, 5, 6, 7, 8, 9, 10])\n",
    "\n",
    "window_size = 3\n",
    "\n",
    "# Create a kernel representing the sliding window\n",
    "kernel = np.ones(window_size) / window_size\n",
    "\n",
    "averages = np.convolve(arr, kernel, mode='valid')\n",
    "\n",
    "print(\"Sliding window averages:\", averages)"
   ]
  },
  {
   "cell_type": "markdown",
   "metadata": {},
   "source": [
    "76. Consider a one-dimensional array Z, build a two-dimensional array whose first row is (Z[0],Z[1],Z[2]) and each subsequent row is shifted by 1 (last row should be (Z[-3],Z[-2],Z[-1])"
   ]
  },
  {
   "cell_type": "code",
   "execution_count": 98,
   "metadata": {},
   "outputs": [
    {
     "name": "stdout",
     "output_type": "stream",
     "text": [
      "[[1 2 3]\n",
      " [2 3 4]\n",
      " [3 4 5]\n",
      " [4 5 6]\n",
      " [5 6 7]]\n"
     ]
    }
   ],
   "source": [
    "Z = np.array([1, 2, 3, 4, 5, 6, 7])\n",
    "\n",
    "# Build the two-dimensional array\n",
    "rows = [Z[i:i+3] for i in range(len(Z) - 2)]\n",
    "result = np.vstack(rows)\n",
    "\n",
    "print(result)"
   ]
  },
  {
   "cell_type": "markdown",
   "metadata": {},
   "source": [
    "77. How to negate a boolean, or to change the sign of a float inplace? "
   ]
  },
  {
   "cell_type": "code",
   "execution_count": 97,
   "metadata": {},
   "outputs": [
    {
     "name": "stdout",
     "output_type": "stream",
     "text": [
      "Negated boolean: False\n"
     ]
    }
   ],
   "source": [
    "# Example boolean var\n",
    "boolean_var = True\n",
    "\n",
    "# Negate the boolean in place\n",
    "boolean_var = not boolean_var\n",
    "\n",
    "print(\"Negated boolean:\", boolean_var)\n"
   ]
  },
  {
   "cell_type": "markdown",
   "metadata": {},
   "source": [
    "78. Consider 2 sets of points P0,P1 describing lines (2d) and a point p, how to compute distance from p to each line i (P0[i],P1[i])? "
   ]
  },
  {
   "cell_type": "code",
   "execution_count": 96,
   "metadata": {},
   "outputs": [
    {
     "name": "stdout",
     "output_type": "stream",
     "text": [
      "[ 6.38658421  7.95761401 15.45509943  1.40601182  7.2399652   4.99686567\n",
      "  9.46831278  9.79377315  2.67464882  0.06160147]\n"
     ]
    }
   ],
   "source": [
    "def distance(P0, P1, p):\n",
    "    T = P1 - P0\n",
    "    L = (T**2).sum(axis=1)\n",
    "    U = -((P0[:,0]-p[...,0])*T[:,0] + (P0[:,1]-p[...,1])*T[:,1]) / L\n",
    "    U = U.reshape(len(U),1)\n",
    "    D = P0 + U*T - p\n",
    "    return np.sqrt((D**2).sum(axis=1))\n",
    "\n",
    "P0 = np.random.uniform(-10,10,(10,2))\n",
    "P1 = np.random.uniform(-10,10,(10,2))\n",
    "p  = np.random.uniform(-10,10,( 1,2))\n",
    "print(distance(P0, P1, p))"
   ]
  },
  {
   "cell_type": "markdown",
   "metadata": {},
   "source": [
    "79. Consider 2 sets of points P0,P1 describing lines (2d) and a set of points P, how to compute distance from each point j (P[j]) to each line i (P0[i],P1[i])?"
   ]
  },
  {
   "cell_type": "code",
   "execution_count": 91,
   "metadata": {},
   "outputs": [
    {
     "name": "stdout",
     "output_type": "stream",
     "text": [
      "Distances:\n",
      "[[1. 0. 1.]\n",
      " [2. 1. 0.]\n",
      " [3. 2. 1.]]\n"
     ]
    }
   ],
   "source": [
    "P = np.array([[1, 1], [2, 2], [3, 3]])\n",
    "P0 = np.array([[0, 0], [1, 1], [2, 2]])\n",
    "P1 = np.array([[1, 0], [2, 1], [3, 2]])\n",
    "\n",
    "# Calculate the distances\n",
    "distances = np.empty((len(P), len(P0)))\n",
    "\n",
    "for j, p in enumerate(P):\n",
    "    for i, (p0, p1) in enumerate(zip(P0, P1)):\n",
    "        # Calculate the vector components for the line\n",
    "        v = p1 - p0\n",
    "        w = p - p0\n",
    "\n",
    "        # Calculate the projection parameter\n",
    "        b = np.dot(w, v) / np.dot(v, v)\n",
    "\n",
    "        # Calculate the nearest point on the line to the point P\n",
    "        pb = p0 + b * v\n",
    "\n",
    "        # Calculate the distance between point P and the nearest point on the line\n",
    "        distances[j, i] = np.linalg.norm(p - pb)\n",
    "\n",
    "print(\"Distances:\")\n",
    "print(distances)"
   ]
  },
  {
   "cell_type": "markdown",
   "metadata": {},
   "source": [
    "80. Consider an arbitrary array, write a function that extract a subpart with a fixed shape and centered on a given element (pad with a fill value when necessary)"
   ]
  },
  {
   "cell_type": "code",
   "execution_count": null,
   "metadata": {},
   "outputs": [],
   "source": []
  },
  {
   "cell_type": "markdown",
   "metadata": {},
   "source": [
    "81. Consider an array Z = [1,2,3,4,5,6,7,8,9,10,11,12,13,14], how to generate an array R = [[1,2,3,4], [2,3,4,5], [3,4,5,6], ..., [11,12,13,14]]?"
   ]
  },
  {
   "cell_type": "code",
   "execution_count": 39,
   "metadata": {},
   "outputs": [
    {
     "name": "stdout",
     "output_type": "stream",
     "text": [
      "[[ 1  2  3  4]\n",
      " [ 2  3  4  5]\n",
      " [ 3  4  5  6]\n",
      " [ 4  5  6  7]\n",
      " [ 5  6  7  8]\n",
      " [ 6  7  8  9]\n",
      " [ 7  8  9 10]\n",
      " [ 8  9 10 11]\n",
      " [ 9 10 11 12]\n",
      " [10 11 12 13]\n",
      " [11 12 13 14]]\n"
     ]
    }
   ],
   "source": [
    "import numpy as np\n",
    "\n",
    "# Original array\n",
    "Z = np.array([1,2,3,4,5,6,7,8,9,10,11,12,13,14])\n",
    "\n",
    "# Window size\n",
    "window_size = 4\n",
    "\n",
    "# Calculate the number of rows in the resulting array\n",
    "num_rows = len(Z) - window_size + 1\n",
    "\n",
    "# Generate the resulting array\n",
    "R = np.lib.stride_tricks.sliding_window_view(Z, (window_size,))\n",
    "\n",
    "print(R)\n"
   ]
  },
  {
   "cell_type": "markdown",
   "metadata": {},
   "source": [
    "82. Compute a matrix rank"
   ]
  },
  {
   "cell_type": "code",
   "execution_count": 45,
   "metadata": {},
   "outputs": [
    {
     "name": "stdout",
     "output_type": "stream",
     "text": [
      "Rank of the matrix: 2\n"
     ]
    }
   ],
   "source": [
    "matrix = np.array([[1, 2, 3],\n",
    "                   [4, 5, 6],\n",
    "                   [7, 8, 9]])\n",
    "\n",
    "rank = np.linalg.matrix_rank(matrix)\n",
    "\n",
    "print(\"Rank of the matrix:\", rank)"
   ]
  },
  {
   "cell_type": "markdown",
   "metadata": {},
   "source": [
    "83. How to find the most frequent value in an array?"
   ]
  },
  {
   "cell_type": "code",
   "execution_count": 40,
   "metadata": {},
   "outputs": [
    {
     "name": "stdout",
     "output_type": "stream",
     "text": [
      "The most frequent value is 2\n"
     ]
    }
   ],
   "source": [
    "arr = np.array([1, 2, 3, 1, 2, 2, 3, 1, 7, 3, 2])\n",
    "\n",
    "# Get unique values and their counts\n",
    "unique_values, counts = np.unique(arr, return_counts=True)\n",
    "\n",
    "most_frequent_index = np.argmax(counts)\n",
    "\n",
    "most_frequent_value = unique_values[most_frequent_index]\n",
    "\n",
    "print(\"The most frequent value is\", most_frequent_value)\n"
   ]
  },
  {
   "cell_type": "markdown",
   "metadata": {},
   "source": [
    "84. Extract all the contiguous 3x3 blocks from a random 10x10 matrix"
   ]
  },
  {
   "cell_type": "code",
   "execution_count": 63,
   "metadata": {},
   "outputs": [
    {
     "name": "stdout",
     "output_type": "stream",
     "text": [
      "Contiguous 3x3 blocks:\n",
      "[[[4 2 3]\n",
      "  [2 1 3]\n",
      "  [4 1 3]]\n",
      "\n",
      " [[2 3 1]\n",
      "  [1 3 2]\n",
      "  [1 3 3]]\n",
      "\n",
      " [[3 1 3]\n",
      "  [3 2 4]\n",
      "  [3 3 2]]\n",
      "\n",
      " [[2 1 3]\n",
      "  [4 1 3]\n",
      "  [3 3 4]]\n",
      "\n",
      " [[1 3 2]\n",
      "  [1 3 3]\n",
      "  [3 4 3]]\n",
      "\n",
      " [[3 2 4]\n",
      "  [3 3 2]\n",
      "  [4 3 2]]\n",
      "\n",
      " [[4 1 3]\n",
      "  [3 3 4]\n",
      "  [2 1 1]]\n",
      "\n",
      " [[1 3 3]\n",
      "  [3 4 3]\n",
      "  [1 1 4]]\n",
      "\n",
      " [[3 3 2]\n",
      "  [4 3 2]\n",
      "  [1 4 4]]]\n"
     ]
    }
   ],
   "source": [
    "\n",
    "matrix = np.random.randint(1, 5, (10, 10))\n",
    "\n",
    "# Initialize a list to store the contiguous 3x3 blocks\n",
    "blocks = []\n",
    "\n",
    "# Iterate over the matrix to extract blocks\n",
    "for i in range(3): \n",
    "    for j in range(3): \n",
    "        block = matrix[i:i+3, j:j+3]\n",
    "        blocks.append(block)\n",
    "y\n",
    "blocks_array = np.array(blocks)\n",
    "\n",
    "# Display the extracted blocks\n",
    "print(\"Contiguous 3x3 blocks:\")\n",
    "print(blocks_array)\n"
   ]
  },
  {
   "cell_type": "markdown",
   "metadata": {},
   "source": [
    "85. Create a 2D array subclass such that Z[i,j] == Z[j,i]"
   ]
  },
  {
   "cell_type": "code",
   "execution_count": 46,
   "metadata": {},
   "outputs": [
    {
     "name": "stdout",
     "output_type": "stream",
     "text": [
      "[[ 3 13 11  9  8]\n",
      " [13  4  6  9  2]\n",
      " [11  6  1 42 10]\n",
      " [ 9  9 42  6  7]\n",
      " [ 8  2 10  7  8]]\n"
     ]
    }
   ],
   "source": [
    "class Symetric(np.ndarray):\n",
    "    def __setitem__(self, index, value):\n",
    "        i,j = index\n",
    "        super(Symetric, self).__setitem__((i,j), value)\n",
    "        super(Symetric, self).__setitem__((j,i), value)\n",
    "\n",
    "def symetric(Z):\n",
    "    return np.asarray(Z + Z.T - np.diag(Z.diagonal())).view(Symetric)\n",
    "\n",
    "S = symetric(np.random.randint(0,10,(5,5)))\n",
    "S[2,3] = 42\n",
    "print(S)"
   ]
  },
  {
   "cell_type": "markdown",
   "metadata": {},
   "source": [
    "86. Consider a set of p matrices with shape (n,n) and a set of p vectors with shape (n,1). How to compute the sum of of the p matrix products at once? (result has shape (n,1))"
   ]
  },
  {
   "cell_type": "code",
   "execution_count": 56,
   "metadata": {},
   "outputs": [
    {
     "name": "stdout",
     "output_type": "stream",
     "text": [
      "Sum of matrix products:\n",
      "[[  2.36861697]\n",
      " [  5.08151317]\n",
      " [  3.44483056]\n",
      " [  7.06762278]\n",
      " [-10.04073274]]\n"
     ]
    }
   ],
   "source": [
    "p = 3\n",
    "n = 5\n",
    "\n",
    "# Generate random matrices and vectors\n",
    "matrices = [np.random.randn(n, n) for _ in range(p)]\n",
    "vectors = [np.random.randn(n, 1) for _ in range(p)]\n",
    "\n",
    "# Compute the sum of matrix products\n",
    "result = sum(np.dot(matrices[i], vectors[i]) for i in range(p))\n",
    "\n",
    "print(\"Sum of matrix products:\")\n",
    "print(result)\n"
   ]
  },
  {
   "cell_type": "markdown",
   "metadata": {},
   "source": [
    "87. Consider a 16x16 array, how to get the block-sum (block size is 4x4)"
   ]
  },
  {
   "cell_type": "code",
   "execution_count": 44,
   "metadata": {},
   "outputs": [
    {
     "name": "stdout",
     "output_type": "stream",
     "text": [
      "Block sums:\n",
      " [[ 92  78  80  94]\n",
      " [ 83  84  79  76]\n",
      " [ 74  87  90  71]\n",
      " [ 72  80 105  79]]\n"
     ]
    }
   ],
   "source": [
    "array = np.random.randint(1, 10, (16, 16))\n",
    "\n",
    "# Reshape the array into a larger 4D array with block size 4x4\n",
    "block_size = 4\n",
    "block_sums = array.reshape(4, 4, 4, 4).sum(axis=(2, 3))\n",
    "\n",
    "print(\"Block sums:\\n\",block_sums)\n"
   ]
  },
  {
   "cell_type": "markdown",
   "metadata": {},
   "source": [
    "88. How to implement the Game of Life using numpy arrays?"
   ]
  },
  {
   "cell_type": "code",
   "execution_count": null,
   "metadata": {},
   "outputs": [],
   "source": []
  },
  {
   "cell_type": "markdown",
   "metadata": {},
   "source": [
    "89. How to get the n largest values of an array"
   ]
  },
  {
   "cell_type": "code",
   "execution_count": 38,
   "metadata": {},
   "outputs": [
    {
     "name": "stdout",
     "output_type": "stream",
     "text": [
      "[45 46 47 48 49]\n"
     ]
    }
   ],
   "source": [
    "Z = np.arange(50)\n",
    "np.random.shuffle(Z)\n",
    "n = 5\n",
    "\n",
    "print (Z[np.argsort(Z)[-n:]])"
   ]
  },
  {
   "cell_type": "markdown",
   "metadata": {},
   "source": [
    "90.  Given an arbitrary number of vectors, build the cartesian product (every combinations of every item)\n"
   ]
  },
  {
   "cell_type": "code",
   "execution_count": 98,
   "metadata": {},
   "outputs": [
    {
     "name": "stdout",
     "output_type": "stream",
     "text": [
      "Cartesian product:\n",
      " [(1, 'a', True), (1, 'a', False), (1, 'b', True), (1, 'b', False), (1, 'c', True), (1, 'c', False), (2, 'a', True), (2, 'a', False), (2, 'b', True), (2, 'b', False), (2, 'c', True), (2, 'c', False), (3, 'a', True), (3, 'a', False), (3, 'b', True), (3, 'b', False), (3, 'c', True), (3, 'c', False)]\n"
     ]
    }
   ],
   "source": [
    "import itertools\n",
    "\n",
    "vector1 = [1, 2, 3]\n",
    "vector2 = ['a', 'b', 'c']\n",
    "vector3 = [True, False]\n",
    "\n",
    "# Build the cartesian product\n",
    "cartesian_product = list(itertools.product(vector1, vector2, vector3))\n",
    "\n",
    "print(\"Cartesian product:\\n\",cartesian_product)\n"
   ]
  },
  {
   "cell_type": "markdown",
   "metadata": {},
   "source": [
    "91. How to create a record array from a regular array? "
   ]
  },
  {
   "cell_type": "code",
   "execution_count": 104,
   "metadata": {},
   "outputs": [
    {
     "name": "stdout",
     "output_type": "stream",
     "text": [
      "\n",
      "Record array:\n",
      "[['1' 'faty' '25']\n",
      " ['2' 'may' '30']\n",
      " ['3' 'ilu' '28']]\n"
     ]
    }
   ],
   "source": [
    "\n",
    "regular_array = np.array([(1, 'faty', 25),\n",
    "                          (2, 'may', 30),\n",
    "                          (3, 'ilu', 28)])\n",
    "\n",
    "# Create a record array\n",
    "record_array = np.rec.array(regular_array)\n",
    "\n",
    "print(\"\\nRecord array:\")\n",
    "print(record_array)\n"
   ]
  },
  {
   "cell_type": "markdown",
   "metadata": {},
   "source": [
    "92. Consider a large vector Z, compute Z to the power of 3 using 3 different methods"
   ]
  },
  {
   "cell_type": "code",
   "execution_count": 105,
   "metadata": {},
   "outputs": [
    {
     "name": "stdout",
     "output_type": "stream",
     "text": [
      "Method 1 (Using broadcasting):\n",
      "[0.25194287 0.31251741 0.29346923 0.90239347 0.25581429 0.12473955\n",
      " 0.26154399 0.09008415 0.01299555 0.17444473]\n",
      "\n",
      "Method 2 (Using np.power() function):\n",
      "[0.25194287 0.31251741 0.29346923 0.90239347 0.25581429 0.12473955\n",
      " 0.26154399 0.09008415 0.01299555 0.17444473]\n",
      "\n",
      "Method 3 (Using a simple loop):\n",
      "[0.25194287 0.31251741 0.29346923 0.90239347 0.25581429 0.12473955\n",
      " 0.26154399 0.09008415 0.01299555 0.17444473]\n"
     ]
    }
   ],
   "source": [
    "Z = np.random.rand(10)\n",
    "\n",
    "# Method 1\n",
    "Z_cubed_broadcasting = Z ** 3\n",
    "\n",
    "# Method 2\n",
    "Z_cubed_np_power = np.power(Z, 3)\n",
    "\n",
    "# Method 3\n",
    "Z_cubed_loop = np.zeros_like(Z)\n",
    "for i in range(len(Z)):\n",
    "    Z_cubed_loop[i] = Z[i] ** 3\n",
    "\n",
    "print(\"Method 1 (Using broadcasting):\")\n",
    "print(Z_cubed_broadcasting)\n",
    "\n",
    "print(\"\\nMethod 2 (Using np.power() function):\")\n",
    "print(Z_cubed_np_power)\n",
    "\n",
    "print(\"\\nMethod 3 (Using a simple loop):\")\n",
    "print(Z_cubed_loop)\n"
   ]
  },
  {
   "cell_type": "markdown",
   "metadata": {},
   "source": [
    "93. Consider two arrays A and B of shape (8,3) and (2,2). How to find rows of A that contain elements of each row of B regardless of the order of the elements in B? "
   ]
  },
  {
   "cell_type": "code",
   "execution_count": 111,
   "metadata": {},
   "outputs": [
    {
     "name": "stdout",
     "output_type": "stream",
     "text": [
      "Matrix A\n",
      " [[4 2 1]\n",
      " [4 2 2]\n",
      " [3 3 1]\n",
      " [3 2 3]\n",
      " [1 3 4]\n",
      " [2 2 0]\n",
      " [3 1 3]\n",
      " [1 4 1]]\n",
      "\n",
      "Matrix B\n",
      " [[2 4]\n",
      " [1 0]]\n",
      "Rows\n",
      " [0 4 5 7]\n"
     ]
    }
   ],
   "source": [
    "A = np.random.randint(0,5,(8,3))\n",
    "B = np.random.randint(0,5,(2,2))\n",
    "\n",
    "print(\"Matrix A\\n\",A)\n",
    "print(\"\\nMatrix B\\n\",B)\n",
    "\n",
    "C = (A[..., np.newaxis, np.newaxis] == B)\n",
    "rows = np.where(C.any((3,1)).all(1))[0]\n",
    "print(\"Rows\\n\",rows)"
   ]
  },
  {
   "cell_type": "markdown",
   "metadata": {},
   "source": [
    "94. Considering a 10x3 matrix, extract rows with unequal values (e.g. [2,2,3])"
   ]
  },
  {
   "cell_type": "code",
   "execution_count": 113,
   "metadata": {},
   "outputs": [
    {
     "name": "stdout",
     "output_type": "stream",
     "text": [
      "\n",
      "Rows with unequal values:\n",
      "[[1 0 2]\n",
      " [0 2 4]\n",
      " [3 0 3]\n",
      " [0 1 4]\n",
      " [2 1 0]\n",
      " [4 2 1]\n",
      " [2 1 2]\n",
      " [0 1 3]\n",
      " [4 3 0]]\n"
     ]
    }
   ],
   "source": [
    "matrix = np.random.randint(0, 5, (10, 3))\n",
    "\n",
    "# Extract rows with unequal values\n",
    "unequal_rows = matrix[~np.all(matrix == matrix[0, :], axis=1)]\n",
    "\n",
    "print(\"\\nRows with unequal values:\")\n",
    "print(unequal_rows)\n"
   ]
  },
  {
   "cell_type": "markdown",
   "metadata": {},
   "source": [
    "95. Convert a vector of ints into a matrix binary representation"
   ]
  },
  {
   "cell_type": "code",
   "execution_count": 116,
   "metadata": {},
   "outputs": [
    {
     "name": "stdout",
     "output_type": "stream",
     "text": [
      "[[0 0 0 0 0 0 0 0]\n",
      " [0 0 0 0 0 0 0 1]\n",
      " [0 0 0 0 0 0 1 0]\n",
      " [0 0 0 0 0 0 1 1]\n",
      " [0 0 0 0 1 1 1 1]\n",
      " [0 0 0 1 0 0 0 0]\n",
      " [0 0 1 0 0 0 0 0]\n",
      " [0 1 0 0 0 0 0 0]\n",
      " [1 0 0 0 0 0 0 0]]\n"
     ]
    }
   ],
   "source": [
    "I = np.array([0, 1, 2, 3, 15, 16, 32, 64, 128], dtype=np.uint8)\n",
    "\n",
    "print(np.unpackbits(I[:, np.newaxis], axis=1))"
   ]
  },
  {
   "cell_type": "markdown",
   "metadata": {},
   "source": [
    "96. Given a two dimensional array, how to extract unique rows?"
   ]
  },
  {
   "cell_type": "code",
   "execution_count": 117,
   "metadata": {},
   "outputs": [
    {
     "name": "stdout",
     "output_type": "stream",
     "text": [
      "\n",
      "Unique rows:\n",
      "[[1 2 3]\n",
      " [4 5 6]\n",
      " [7 8 9]]\n"
     ]
    }
   ],
   "source": [
    "array_2d = np.array([[1, 2, 3],\n",
    "                     [4, 5, 6],\n",
    "                     [1, 2, 3],\n",
    "                     [7, 8, 9],\n",
    "                     [4, 5, 6]])\n",
    "\n",
    "# Extract unique rows\n",
    "unique_rows = np.unique(array_2d, axis=0)\n",
    "\n",
    "print(\"\\nUnique rows:\")\n",
    "print(unique_rows)"
   ]
  },
  {
   "cell_type": "markdown",
   "metadata": {},
   "source": [
    "97.  Considering 2 vectors A & B, write the einsum equivalent of inner, outer, sum, and mul function \n"
   ]
  },
  {
   "cell_type": "code",
   "execution_count": 119,
   "metadata": {},
   "outputs": [
    {
     "name": "stdout",
     "output_type": "stream",
     "text": [
      "Inner product: 32\n",
      "Outer product:\n",
      "[[ 4  5  6]\n",
      " [ 8 10 12]\n",
      " [12 15 18]]\n",
      "Sum of A: 6\n",
      "Sum of B: 15\n",
      "Element-wise multiplication:\n",
      "[ 4 10 18]\n"
     ]
    }
   ],
   "source": [
    "A = np.array([1, 2, 3])\n",
    "B = np.array([4, 5, 6])\n",
    "\n",
    "# Inner product\n",
    "inner_product = np.einsum('i,i->', A, B)\n",
    "print(\"Inner product:\", inner_product)\n",
    "\n",
    "# Outer product\n",
    "outer_product = np.einsum('i,j->ij', A, B)\n",
    "print(\"Outer product:\")\n",
    "print(outer_product)\n",
    "\n",
    "# Sum\n",
    "sum_A = np.einsum('i->', A)\n",
    "sum_B = np.einsum('i->', B)\n",
    "print(\"Sum of A:\", sum_A)\n",
    "print(\"Sum of B:\", sum_B)\n",
    "\n",
    "# Element-wise multiplication\n",
    "elementwise_multiplication = np.einsum('i,i->i', A, B)\n",
    "print(\"Element-wise multiplication:\")\n",
    "print(elementwise_multiplication)\n"
   ]
  },
  {
   "cell_type": "markdown",
   "metadata": {},
   "source": [
    "98. Considering a path described by two vectors (X,Y), how to sample it using equidistant samples "
   ]
  },
  {
   "cell_type": "code",
   "execution_count": 120,
   "metadata": {},
   "outputs": [
    {
     "name": "stdout",
     "output_type": "stream",
     "text": [
      "Equidistant X coordinates:\n",
      "[0. 1. 2. 3. 4. 5. 6. 7. 8. 9.]\n",
      "\n",
      "Equidistant Y coordinates:\n",
      "[ 0.   2.   2.5  3.   5.   6.   7.   7.5  8.  10. ]\n"
     ]
    }
   ],
   "source": [
    "X = np.array([0, 1, 3, 4, 6, 8, 9])\n",
    "Y = np.array([0, 2, 3, 5, 7, 8, 10])\n",
    "\n",
    "# Number of equidistant samples\n",
    "num_samples = 10\n",
    "\n",
    "equidistant_X = np.linspace(X[0], X[-1], num_samples)\n",
    "equidistant_Y = np.interp(equidistant_X, X, Y)\n",
    "\n",
    "# Print the equidistant samples\n",
    "print(\"Equidistant X coordinates:\")\n",
    "print(equidistant_X)\n",
    "print(\"\\nEquidistant Y coordinates:\")\n",
    "print(equidistant_Y)\n"
   ]
  },
  {
   "cell_type": "markdown",
   "metadata": {},
   "source": [
    "99. Given an integer n and a 2D array X, select from X the rows which can be interpreted as draws from a multinomial distribution with n degrees, i.e., the rows which only contain integers and which sum to n. "
   ]
  },
  {
   "cell_type": "code",
   "execution_count": 121,
   "metadata": {},
   "outputs": [
    {
     "name": "stdout",
     "output_type": "stream",
     "text": [
      "[[2. 0. 1. 1.]]\n"
     ]
    }
   ],
   "source": [
    "X = np.asarray([[1.0, 0.0, 3.0, 8.0],\n",
    "                [2.0, 0.0, 1.0, 1.0],\n",
    "                [1.5, 2.5, 1.0, 0.0]])\n",
    "n = 4\n",
    "M = np.logical_and.reduce(np.mod(X, 1) == 0, axis=-1)\n",
    "M &= (X.sum(axis=-1) == n)\n",
    "print(X[M])"
   ]
  },
  {
   "cell_type": "markdown",
   "metadata": {},
   "source": [
    "100. Compute bootstrapped 95% confidence intervals for the mean of a 1D array X (i.e., resample the elements of an array with replacement N times, compute the mean of each sample, and then compute percentiles over the means)."
   ]
  },
  {
   "cell_type": "code",
   "execution_count": 122,
   "metadata": {},
   "outputs": [
    {
     "name": "stdout",
     "output_type": "stream",
     "text": [
      "[-0.10656874  0.27827704]\n"
     ]
    }
   ],
   "source": [
    "# random 1D array\n",
    "X = np.random.randn(100) \n",
    "\n",
    "# number of bootstrap samples\n",
    "N = 1000 \n",
    "\n",
    "#resample elements\n",
    "idx = np.random.randint(0, X.size, (N, X.size))\n",
    "\n",
    "# compute mean\n",
    "means = X[idx].mean(axis=1)\n",
    "\n",
    "confidence_interval = np.percentile(means, [2.5, 97.5])\n",
    "\n",
    "print(confidence_interval)"
   ]
  }
 ],
 "metadata": {
  "kernelspec": {
   "display_name": "adsatesting",
   "language": "python",
   "name": "python3"
  },
  "language_info": {
   "codemirror_mode": {
    "name": "ipython",
    "version": 3
   },
   "file_extension": ".py",
   "mimetype": "text/x-python",
   "name": "python",
   "nbconvert_exporter": "python",
   "pygments_lexer": "ipython3",
   "version": "3.10.13"
  }
 },
 "nbformat": 4,
 "nbformat_minor": 2
}
